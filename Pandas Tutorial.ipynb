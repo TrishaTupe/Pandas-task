{
 "cells": [
  {
   "cell_type": "markdown",
   "id": "73b418af-0352-4573-a542-5532d6f3450b",
   "metadata": {
    "jp-MarkdownHeadingCollapsed": true
   },
   "source": [
    "# Pandas Complete Tutorial for Data Science\n"
   ]
  },
  {
   "cell_type": "code",
   "execution_count": 1,
   "id": "88727610-6aa6-4da5-9ba8-afd85ff02ec3",
   "metadata": {},
   "outputs": [],
   "source": [
    "import numpy as np\n",
    "import pandas as pd"
   ]
  },
  {
   "cell_type": "markdown",
   "id": "891d1ddc-9d9b-40c2-a93c-d786679198bf",
   "metadata": {},
   "source": [
    "# Loading Different Data Formats Into A Pandas Data Frame"
   ]
  },
  {
   "cell_type": "code",
   "execution_count": 2,
   "id": "d2e25b0b-041c-47bb-9eb0-8d9ae840aa54",
   "metadata": {},
   "outputs": [],
   "source": [
    "# Loading data sets\n",
    "df=pd.read_csv('C:\\\\Users\\\\LENOVO\\\\Desktop\\\\Pandas\\\\Datasets\\\\online_store_customer_data.csv')"
   ]
  },
  {
   "cell_type": "code",
   "execution_count": 3,
   "id": "fc60e611-7009-49dd-a2ca-dbe483f90dae",
   "metadata": {},
   "outputs": [
    {
     "data": {
      "text/html": [
       "<div>\n",
       "<style scoped>\n",
       "    .dataframe tbody tr th:only-of-type {\n",
       "        vertical-align: middle;\n",
       "    }\n",
       "\n",
       "    .dataframe tbody tr th {\n",
       "        vertical-align: top;\n",
       "    }\n",
       "\n",
       "    .dataframe thead th {\n",
       "        text-align: right;\n",
       "    }\n",
       "</style>\n",
       "<table border=\"1\" class=\"dataframe\">\n",
       "  <thead>\n",
       "    <tr style=\"text-align: right;\">\n",
       "      <th></th>\n",
       "      <th>Transaction_date</th>\n",
       "      <th>Transaction_ID</th>\n",
       "      <th>Gender</th>\n",
       "      <th>Age</th>\n",
       "      <th>Marital_status</th>\n",
       "      <th>State_names</th>\n",
       "      <th>Segment</th>\n",
       "      <th>Employees_status</th>\n",
       "      <th>Payment_method</th>\n",
       "      <th>Referal</th>\n",
       "      <th>Amount_spent</th>\n",
       "    </tr>\n",
       "  </thead>\n",
       "  <tbody>\n",
       "    <tr>\n",
       "      <th>0</th>\n",
       "      <td>1/1/2019</td>\n",
       "      <td>151200</td>\n",
       "      <td>Female</td>\n",
       "      <td>19.0</td>\n",
       "      <td>Single</td>\n",
       "      <td>Kansas</td>\n",
       "      <td>Basic</td>\n",
       "      <td>Unemployment</td>\n",
       "      <td>Other</td>\n",
       "      <td>1.0</td>\n",
       "      <td>2051.36</td>\n",
       "    </tr>\n",
       "    <tr>\n",
       "      <th>1</th>\n",
       "      <td>1/1/2019</td>\n",
       "      <td>151201</td>\n",
       "      <td>Male</td>\n",
       "      <td>49.0</td>\n",
       "      <td>Single</td>\n",
       "      <td>Illinois</td>\n",
       "      <td>Basic</td>\n",
       "      <td>self-employed</td>\n",
       "      <td>Card</td>\n",
       "      <td>0.0</td>\n",
       "      <td>544.04</td>\n",
       "    </tr>\n",
       "    <tr>\n",
       "      <th>2</th>\n",
       "      <td>1/1/2019</td>\n",
       "      <td>151202</td>\n",
       "      <td>Male</td>\n",
       "      <td>63.0</td>\n",
       "      <td>Married</td>\n",
       "      <td>New Mexico</td>\n",
       "      <td>Basic</td>\n",
       "      <td>workers</td>\n",
       "      <td>PayPal</td>\n",
       "      <td>1.0</td>\n",
       "      <td>1572.60</td>\n",
       "    </tr>\n",
       "    <tr>\n",
       "      <th>3</th>\n",
       "      <td>1/1/2019</td>\n",
       "      <td>151203</td>\n",
       "      <td>NaN</td>\n",
       "      <td>18.0</td>\n",
       "      <td>Single</td>\n",
       "      <td>Virginia</td>\n",
       "      <td>Platinum</td>\n",
       "      <td>workers</td>\n",
       "      <td>Card</td>\n",
       "      <td>NaN</td>\n",
       "      <td>1199.79</td>\n",
       "    </tr>\n",
       "    <tr>\n",
       "      <th>4</th>\n",
       "      <td>1/1/2019</td>\n",
       "      <td>151204</td>\n",
       "      <td>Male</td>\n",
       "      <td>27.0</td>\n",
       "      <td>Single</td>\n",
       "      <td>Connecticut</td>\n",
       "      <td>Basic</td>\n",
       "      <td>self-employed</td>\n",
       "      <td>Card</td>\n",
       "      <td>0.0</td>\n",
       "      <td>NaN</td>\n",
       "    </tr>\n",
       "  </tbody>\n",
       "</table>\n",
       "</div>"
      ],
      "text/plain": [
       "  Transaction_date  Transaction_ID  Gender   Age Marital_status  State_names  \\\n",
       "0         1/1/2019          151200  Female  19.0         Single       Kansas   \n",
       "1         1/1/2019          151201    Male  49.0         Single     Illinois   \n",
       "2         1/1/2019          151202    Male  63.0        Married   New Mexico   \n",
       "3         1/1/2019          151203     NaN  18.0         Single     Virginia   \n",
       "4         1/1/2019          151204    Male  27.0         Single  Connecticut   \n",
       "\n",
       "    Segment Employees_status Payment_method  Referal  Amount_spent  \n",
       "0     Basic     Unemployment          Other      1.0       2051.36  \n",
       "1     Basic    self-employed           Card      0.0        544.04  \n",
       "2     Basic          workers         PayPal      1.0       1572.60  \n",
       "3  Platinum          workers           Card      NaN       1199.79  \n",
       "4     Basic    self-employed           Card      0.0           NaN  "
      ]
     },
     "execution_count": 3,
     "metadata": {},
     "output_type": "execute_result"
    }
   ],
   "source": [
    "df.head()"
   ]
  },
  {
   "cell_type": "code",
   "execution_count": 4,
   "id": "51e12b1e-f87a-4afb-9411-1f03fb168f9f",
   "metadata": {},
   "outputs": [
    {
     "data": {
      "text/html": [
       "<div>\n",
       "<style scoped>\n",
       "    .dataframe tbody tr th:only-of-type {\n",
       "        vertical-align: middle;\n",
       "    }\n",
       "\n",
       "    .dataframe tbody tr th {\n",
       "        vertical-align: top;\n",
       "    }\n",
       "\n",
       "    .dataframe thead th {\n",
       "        text-align: right;\n",
       "    }\n",
       "</style>\n",
       "<table border=\"1\" class=\"dataframe\">\n",
       "  <thead>\n",
       "    <tr style=\"text-align: right;\">\n",
       "      <th></th>\n",
       "      <th>Transaction_date</th>\n",
       "      <th>Transaction_ID</th>\n",
       "      <th>Gender</th>\n",
       "      <th>Age</th>\n",
       "      <th>Marital_status</th>\n",
       "      <th>State_names</th>\n",
       "      <th>Segment</th>\n",
       "      <th>Employees_status</th>\n",
       "      <th>Payment_method</th>\n",
       "      <th>Referal</th>\n",
       "      <th>Amount_spent</th>\n",
       "    </tr>\n",
       "  </thead>\n",
       "  <tbody>\n",
       "    <tr>\n",
       "      <th>2507</th>\n",
       "      <td>5/1/2021</td>\n",
       "      <td>153695</td>\n",
       "      <td>Female</td>\n",
       "      <td>57.0</td>\n",
       "      <td>Single</td>\n",
       "      <td>South Carolina</td>\n",
       "      <td>Platinum</td>\n",
       "      <td>self-employed</td>\n",
       "      <td>Card</td>\n",
       "      <td>0.0</td>\n",
       "      <td>150.10</td>\n",
       "    </tr>\n",
       "    <tr>\n",
       "      <th>2508</th>\n",
       "      <td>5/1/2021</td>\n",
       "      <td>153696</td>\n",
       "      <td>Female</td>\n",
       "      <td>36.0</td>\n",
       "      <td>Married</td>\n",
       "      <td>Hawaii</td>\n",
       "      <td>Silver</td>\n",
       "      <td>self-employed</td>\n",
       "      <td>PayPal</td>\n",
       "      <td>1.0</td>\n",
       "      <td>708.88</td>\n",
       "    </tr>\n",
       "    <tr>\n",
       "      <th>2509</th>\n",
       "      <td>5/1/2021</td>\n",
       "      <td>153697</td>\n",
       "      <td>Male</td>\n",
       "      <td>22.0</td>\n",
       "      <td>Single</td>\n",
       "      <td>South Carolina</td>\n",
       "      <td>Basic</td>\n",
       "      <td>workers</td>\n",
       "      <td>PayPal</td>\n",
       "      <td>1.0</td>\n",
       "      <td>2030.07</td>\n",
       "    </tr>\n",
       "    <tr>\n",
       "      <th>2510</th>\n",
       "      <td>5/1/2021</td>\n",
       "      <td>153698</td>\n",
       "      <td>NaN</td>\n",
       "      <td>44.0</td>\n",
       "      <td>Single</td>\n",
       "      <td>New York</td>\n",
       "      <td>Basic</td>\n",
       "      <td>Employees</td>\n",
       "      <td>PayPal</td>\n",
       "      <td>0.0</td>\n",
       "      <td>1909.77</td>\n",
       "    </tr>\n",
       "    <tr>\n",
       "      <th>2511</th>\n",
       "      <td>5/1/2021</td>\n",
       "      <td>153699</td>\n",
       "      <td>Male</td>\n",
       "      <td>48.0</td>\n",
       "      <td>Single</td>\n",
       "      <td>California</td>\n",
       "      <td>Silver</td>\n",
       "      <td>workers</td>\n",
       "      <td>PayPal</td>\n",
       "      <td>1.0</td>\n",
       "      <td>1073.15</td>\n",
       "    </tr>\n",
       "  </tbody>\n",
       "</table>\n",
       "</div>"
      ],
      "text/plain": [
       "     Transaction_date  Transaction_ID  Gender   Age Marital_status  \\\n",
       "2507         5/1/2021          153695  Female  57.0         Single   \n",
       "2508         5/1/2021          153696  Female  36.0        Married   \n",
       "2509         5/1/2021          153697    Male  22.0         Single   \n",
       "2510         5/1/2021          153698     NaN  44.0         Single   \n",
       "2511         5/1/2021          153699    Male  48.0         Single   \n",
       "\n",
       "         State_names   Segment Employees_status Payment_method  Referal  \\\n",
       "2507  South Carolina  Platinum    self-employed           Card      0.0   \n",
       "2508          Hawaii    Silver    self-employed         PayPal      1.0   \n",
       "2509  South Carolina     Basic          workers         PayPal      1.0   \n",
       "2510        New York     Basic        Employees         PayPal      0.0   \n",
       "2511      California    Silver          workers         PayPal      1.0   \n",
       "\n",
       "      Amount_spent  \n",
       "2507        150.10  \n",
       "2508        708.88  \n",
       "2509       2030.07  \n",
       "2510       1909.77  \n",
       "2511       1073.15  "
      ]
     },
     "execution_count": 4,
     "metadata": {},
     "output_type": "execute_result"
    }
   ],
   "source": [
    "df.tail()"
   ]
  },
  {
   "cell_type": "code",
   "execution_count": 5,
   "id": "8a1d0051-8002-49c5-82d6-0d4882e8e476",
   "metadata": {},
   "outputs": [
    {
     "data": {
      "text/html": [
       "<div>\n",
       "<style scoped>\n",
       "    .dataframe tbody tr th:only-of-type {\n",
       "        vertical-align: middle;\n",
       "    }\n",
       "\n",
       "    .dataframe tbody tr th {\n",
       "        vertical-align: top;\n",
       "    }\n",
       "\n",
       "    .dataframe thead th {\n",
       "        text-align: right;\n",
       "    }\n",
       "</style>\n",
       "<table border=\"1\" class=\"dataframe\">\n",
       "  <thead>\n",
       "    <tr style=\"text-align: right;\">\n",
       "      <th></th>\n",
       "      <th>Transaction_date</th>\n",
       "      <th>Transaction_ID</th>\n",
       "      <th>Gender</th>\n",
       "      <th>Age</th>\n",
       "      <th>Marital_status</th>\n",
       "      <th>State_names</th>\n",
       "      <th>Segment</th>\n",
       "      <th>Employees_status</th>\n",
       "      <th>Payment_method</th>\n",
       "      <th>Referal</th>\n",
       "      <th>Amount_spent</th>\n",
       "    </tr>\n",
       "  </thead>\n",
       "  <tbody>\n",
       "    <tr>\n",
       "      <th>0</th>\n",
       "      <td>1/1/2019</td>\n",
       "      <td>151200</td>\n",
       "      <td>Female</td>\n",
       "      <td>19.0</td>\n",
       "      <td>Single</td>\n",
       "      <td>Kansas</td>\n",
       "      <td>Basic</td>\n",
       "      <td>Unemployment</td>\n",
       "      <td>Other</td>\n",
       "      <td>1.0</td>\n",
       "      <td>2051.36</td>\n",
       "    </tr>\n",
       "    <tr>\n",
       "      <th>1</th>\n",
       "      <td>1/1/2019</td>\n",
       "      <td>151201</td>\n",
       "      <td>Male</td>\n",
       "      <td>49.0</td>\n",
       "      <td>Single</td>\n",
       "      <td>Illinois</td>\n",
       "      <td>Basic</td>\n",
       "      <td>self-employed</td>\n",
       "      <td>Card</td>\n",
       "      <td>0.0</td>\n",
       "      <td>544.04</td>\n",
       "    </tr>\n",
       "    <tr>\n",
       "      <th>2</th>\n",
       "      <td>1/1/2019</td>\n",
       "      <td>151202</td>\n",
       "      <td>Male</td>\n",
       "      <td>63.0</td>\n",
       "      <td>Married</td>\n",
       "      <td>New Mexico</td>\n",
       "      <td>Basic</td>\n",
       "      <td>workers</td>\n",
       "      <td>PayPal</td>\n",
       "      <td>1.0</td>\n",
       "      <td>1572.60</td>\n",
       "    </tr>\n",
       "  </tbody>\n",
       "</table>\n",
       "</div>"
      ],
      "text/plain": [
       "  Transaction_date  Transaction_ID  Gender   Age Marital_status State_names  \\\n",
       "0         1/1/2019          151200  Female  19.0         Single      Kansas   \n",
       "1         1/1/2019          151201    Male  49.0         Single    Illinois   \n",
       "2         1/1/2019          151202    Male  63.0        Married  New Mexico   \n",
       "\n",
       "  Segment Employees_status Payment_method  Referal  Amount_spent  \n",
       "0   Basic     Unemployment          Other      1.0       2051.36  \n",
       "1   Basic    self-employed           Card      0.0        544.04  \n",
       "2   Basic          workers         PayPal      1.0       1572.60  "
      ]
     },
     "execution_count": 5,
     "metadata": {},
     "output_type": "execute_result"
    }
   ],
   "source": [
    "df.head(3)"
   ]
  },
  {
   "cell_type": "code",
   "execution_count": 6,
   "id": "0c2f9376-db05-4b8c-9a86-34cd84295af3",
   "metadata": {},
   "outputs": [
    {
     "data": {
      "text/html": [
       "<div>\n",
       "<style scoped>\n",
       "    .dataframe tbody tr th:only-of-type {\n",
       "        vertical-align: middle;\n",
       "    }\n",
       "\n",
       "    .dataframe tbody tr th {\n",
       "        vertical-align: top;\n",
       "    }\n",
       "\n",
       "    .dataframe thead th {\n",
       "        text-align: right;\n",
       "    }\n",
       "</style>\n",
       "<table border=\"1\" class=\"dataframe\">\n",
       "  <thead>\n",
       "    <tr style=\"text-align: right;\">\n",
       "      <th></th>\n",
       "      <th>Transaction_date</th>\n",
       "      <th>Transaction_ID</th>\n",
       "      <th>Gender</th>\n",
       "      <th>Age</th>\n",
       "      <th>Marital_status</th>\n",
       "      <th>State_names</th>\n",
       "      <th>Segment</th>\n",
       "      <th>Employees_status</th>\n",
       "      <th>Payment_method</th>\n",
       "      <th>Referal</th>\n",
       "      <th>Amount_spent</th>\n",
       "    </tr>\n",
       "  </thead>\n",
       "  <tbody>\n",
       "    <tr>\n",
       "      <th>2511</th>\n",
       "      <td>5/1/2021</td>\n",
       "      <td>153699</td>\n",
       "      <td>Male</td>\n",
       "      <td>48.0</td>\n",
       "      <td>Single</td>\n",
       "      <td>California</td>\n",
       "      <td>Silver</td>\n",
       "      <td>workers</td>\n",
       "      <td>PayPal</td>\n",
       "      <td>1.0</td>\n",
       "      <td>1073.15</td>\n",
       "    </tr>\n",
       "  </tbody>\n",
       "</table>\n",
       "</div>"
      ],
      "text/plain": [
       "     Transaction_date  Transaction_ID Gender   Age Marital_status State_names  \\\n",
       "2511         5/1/2021          153699   Male  48.0         Single  California   \n",
       "\n",
       "     Segment Employees_status Payment_method  Referal  Amount_spent  \n",
       "2511  Silver          workers         PayPal      1.0       1073.15  "
      ]
     },
     "execution_count": 6,
     "metadata": {},
     "output_type": "execute_result"
    }
   ],
   "source": [
    "df.tail(1)"
   ]
  },
  {
   "cell_type": "code",
   "execution_count": 7,
   "id": "9bd1ded4-37fe-48ca-adf0-a157786443ff",
   "metadata": {},
   "outputs": [
    {
     "data": {
      "text/html": [
       "<div>\n",
       "<style scoped>\n",
       "    .dataframe tbody tr th:only-of-type {\n",
       "        vertical-align: middle;\n",
       "    }\n",
       "\n",
       "    .dataframe tbody tr th {\n",
       "        vertical-align: top;\n",
       "    }\n",
       "\n",
       "    .dataframe thead th {\n",
       "        text-align: right;\n",
       "    }\n",
       "</style>\n",
       "<table border=\"1\" class=\"dataframe\">\n",
       "  <thead>\n",
       "    <tr style=\"text-align: right;\">\n",
       "      <th></th>\n",
       "      <th>1/1/2019</th>\n",
       "      <th>151201</th>\n",
       "      <th>Male</th>\n",
       "      <th>49</th>\n",
       "      <th>Single</th>\n",
       "      <th>Illinois</th>\n",
       "      <th>Basic</th>\n",
       "      <th>self-employed</th>\n",
       "      <th>Card</th>\n",
       "      <th>0</th>\n",
       "      <th>544.04</th>\n",
       "    </tr>\n",
       "  </thead>\n",
       "  <tbody>\n",
       "    <tr>\n",
       "      <th>0</th>\n",
       "      <td>1/1/2019</td>\n",
       "      <td>151202</td>\n",
       "      <td>Male</td>\n",
       "      <td>63.0</td>\n",
       "      <td>Married</td>\n",
       "      <td>New Mexico</td>\n",
       "      <td>Basic</td>\n",
       "      <td>workers</td>\n",
       "      <td>PayPal</td>\n",
       "      <td>1.0</td>\n",
       "      <td>1572.60</td>\n",
       "    </tr>\n",
       "    <tr>\n",
       "      <th>1</th>\n",
       "      <td>1/1/2019</td>\n",
       "      <td>151203</td>\n",
       "      <td>NaN</td>\n",
       "      <td>18.0</td>\n",
       "      <td>Single</td>\n",
       "      <td>Virginia</td>\n",
       "      <td>Platinum</td>\n",
       "      <td>workers</td>\n",
       "      <td>Card</td>\n",
       "      <td>NaN</td>\n",
       "      <td>1199.79</td>\n",
       "    </tr>\n",
       "    <tr>\n",
       "      <th>2</th>\n",
       "      <td>1/1/2019</td>\n",
       "      <td>151204</td>\n",
       "      <td>Male</td>\n",
       "      <td>27.0</td>\n",
       "      <td>Single</td>\n",
       "      <td>Connecticut</td>\n",
       "      <td>Basic</td>\n",
       "      <td>self-employed</td>\n",
       "      <td>Card</td>\n",
       "      <td>0.0</td>\n",
       "      <td>NaN</td>\n",
       "    </tr>\n",
       "    <tr>\n",
       "      <th>3</th>\n",
       "      <td>1/3/2019</td>\n",
       "      <td>151205</td>\n",
       "      <td>Male</td>\n",
       "      <td>71.0</td>\n",
       "      <td>Single</td>\n",
       "      <td>Hawaii</td>\n",
       "      <td>Basic</td>\n",
       "      <td>Employees</td>\n",
       "      <td>PayPal</td>\n",
       "      <td>1.0</td>\n",
       "      <td>2922.66</td>\n",
       "    </tr>\n",
       "    <tr>\n",
       "      <th>4</th>\n",
       "      <td>1/3/2019</td>\n",
       "      <td>151206</td>\n",
       "      <td>Female</td>\n",
       "      <td>34.0</td>\n",
       "      <td>Married</td>\n",
       "      <td>New Mexico</td>\n",
       "      <td>Platinum</td>\n",
       "      <td>Employees</td>\n",
       "      <td>PayPal</td>\n",
       "      <td>1.0</td>\n",
       "      <td>1481.42</td>\n",
       "    </tr>\n",
       "    <tr>\n",
       "      <th>...</th>\n",
       "      <td>...</td>\n",
       "      <td>...</td>\n",
       "      <td>...</td>\n",
       "      <td>...</td>\n",
       "      <td>...</td>\n",
       "      <td>...</td>\n",
       "      <td>...</td>\n",
       "      <td>...</td>\n",
       "      <td>...</td>\n",
       "      <td>...</td>\n",
       "      <td>...</td>\n",
       "    </tr>\n",
       "    <tr>\n",
       "      <th>2505</th>\n",
       "      <td>5/1/2021</td>\n",
       "      <td>153695</td>\n",
       "      <td>Female</td>\n",
       "      <td>57.0</td>\n",
       "      <td>Single</td>\n",
       "      <td>South Carolina</td>\n",
       "      <td>Platinum</td>\n",
       "      <td>self-employed</td>\n",
       "      <td>Card</td>\n",
       "      <td>0.0</td>\n",
       "      <td>150.10</td>\n",
       "    </tr>\n",
       "    <tr>\n",
       "      <th>2506</th>\n",
       "      <td>5/1/2021</td>\n",
       "      <td>153696</td>\n",
       "      <td>Female</td>\n",
       "      <td>36.0</td>\n",
       "      <td>Married</td>\n",
       "      <td>Hawaii</td>\n",
       "      <td>Silver</td>\n",
       "      <td>self-employed</td>\n",
       "      <td>PayPal</td>\n",
       "      <td>1.0</td>\n",
       "      <td>708.88</td>\n",
       "    </tr>\n",
       "    <tr>\n",
       "      <th>2507</th>\n",
       "      <td>5/1/2021</td>\n",
       "      <td>153697</td>\n",
       "      <td>Male</td>\n",
       "      <td>22.0</td>\n",
       "      <td>Single</td>\n",
       "      <td>South Carolina</td>\n",
       "      <td>Basic</td>\n",
       "      <td>workers</td>\n",
       "      <td>PayPal</td>\n",
       "      <td>1.0</td>\n",
       "      <td>2030.07</td>\n",
       "    </tr>\n",
       "    <tr>\n",
       "      <th>2508</th>\n",
       "      <td>5/1/2021</td>\n",
       "      <td>153698</td>\n",
       "      <td>NaN</td>\n",
       "      <td>44.0</td>\n",
       "      <td>Single</td>\n",
       "      <td>New York</td>\n",
       "      <td>Basic</td>\n",
       "      <td>Employees</td>\n",
       "      <td>PayPal</td>\n",
       "      <td>0.0</td>\n",
       "      <td>1909.77</td>\n",
       "    </tr>\n",
       "    <tr>\n",
       "      <th>2509</th>\n",
       "      <td>5/1/2021</td>\n",
       "      <td>153699</td>\n",
       "      <td>Male</td>\n",
       "      <td>48.0</td>\n",
       "      <td>Single</td>\n",
       "      <td>California</td>\n",
       "      <td>Silver</td>\n",
       "      <td>workers</td>\n",
       "      <td>PayPal</td>\n",
       "      <td>1.0</td>\n",
       "      <td>1073.15</td>\n",
       "    </tr>\n",
       "  </tbody>\n",
       "</table>\n",
       "<p>2510 rows × 11 columns</p>\n",
       "</div>"
      ],
      "text/plain": [
       "      1/1/2019  151201    Male    49   Single        Illinois     Basic  \\\n",
       "0     1/1/2019  151202    Male  63.0  Married      New Mexico     Basic   \n",
       "1     1/1/2019  151203     NaN  18.0   Single        Virginia  Platinum   \n",
       "2     1/1/2019  151204    Male  27.0   Single     Connecticut     Basic   \n",
       "3     1/3/2019  151205    Male  71.0   Single          Hawaii     Basic   \n",
       "4     1/3/2019  151206  Female  34.0  Married      New Mexico  Platinum   \n",
       "...        ...     ...     ...   ...      ...             ...       ...   \n",
       "2505  5/1/2021  153695  Female  57.0   Single  South Carolina  Platinum   \n",
       "2506  5/1/2021  153696  Female  36.0  Married          Hawaii    Silver   \n",
       "2507  5/1/2021  153697    Male  22.0   Single  South Carolina     Basic   \n",
       "2508  5/1/2021  153698     NaN  44.0   Single        New York     Basic   \n",
       "2509  5/1/2021  153699    Male  48.0   Single      California    Silver   \n",
       "\n",
       "      self-employed    Card    0   544.04  \n",
       "0           workers  PayPal  1.0  1572.60  \n",
       "1           workers    Card  NaN  1199.79  \n",
       "2     self-employed    Card  0.0      NaN  \n",
       "3         Employees  PayPal  1.0  2922.66  \n",
       "4         Employees  PayPal  1.0  1481.42  \n",
       "...             ...     ...  ...      ...  \n",
       "2505  self-employed    Card  0.0   150.10  \n",
       "2506  self-employed  PayPal  1.0   708.88  \n",
       "2507        workers  PayPal  1.0  2030.07  \n",
       "2508      Employees  PayPal  0.0  1909.77  \n",
       "2509        workers  PayPal  1.0  1073.15  \n",
       "\n",
       "[2510 rows x 11 columns]"
      ]
     },
     "execution_count": 7,
     "metadata": {},
     "output_type": "execute_result"
    }
   ],
   "source": [
    "# Loading csv file with skip firts 2 rows without header\n",
    "df_csv=pd.read_csv('C:\\\\Users\\\\LENOVO\\\\Desktop\\\\Pandas\\\\Datasets\\\\online_store_customer_data.csv',skiprows=2)\n",
    "df_csv"
   ]
  },
  {
   "cell_type": "markdown",
   "id": "b4dc02aa-dca4-41ad-806c-9f9bde2ce9f9",
   "metadata": {},
   "source": [
    "# Read csv file from URL"
   ]
  },
  {
   "cell_type": "code",
   "execution_count": 8,
   "id": "3594a531-38de-4455-a62e-d059b155133d",
   "metadata": {},
   "outputs": [
    {
     "ename": "URLError",
     "evalue": "<urlopen error [Errno 11001] getaddrinfo failed>",
     "output_type": "error",
     "traceback": [
      "\u001b[1;31m---------------------------------------------------------------------------\u001b[0m",
      "\u001b[1;31mgaierror\u001b[0m                                  Traceback (most recent call last)",
      "File \u001b[1;32m~\\anaconda3\\Lib\\urllib\\request.py:1344\u001b[0m, in \u001b[0;36mAbstractHTTPHandler.do_open\u001b[1;34m(self, http_class, req, **http_conn_args)\u001b[0m\n\u001b[0;32m   1343\u001b[0m \u001b[38;5;28;01mtry\u001b[39;00m:\n\u001b[1;32m-> 1344\u001b[0m     h\u001b[38;5;241m.\u001b[39mrequest(req\u001b[38;5;241m.\u001b[39mget_method(), req\u001b[38;5;241m.\u001b[39mselector, req\u001b[38;5;241m.\u001b[39mdata, headers,\n\u001b[0;32m   1345\u001b[0m               encode_chunked\u001b[38;5;241m=\u001b[39mreq\u001b[38;5;241m.\u001b[39mhas_header(\u001b[38;5;124m'\u001b[39m\u001b[38;5;124mTransfer-encoding\u001b[39m\u001b[38;5;124m'\u001b[39m))\n\u001b[0;32m   1346\u001b[0m \u001b[38;5;28;01mexcept\u001b[39;00m \u001b[38;5;167;01mOSError\u001b[39;00m \u001b[38;5;28;01mas\u001b[39;00m err: \u001b[38;5;66;03m# timeout error\u001b[39;00m\n",
      "File \u001b[1;32m~\\anaconda3\\Lib\\http\\client.py:1336\u001b[0m, in \u001b[0;36mHTTPConnection.request\u001b[1;34m(self, method, url, body, headers, encode_chunked)\u001b[0m\n\u001b[0;32m   1335\u001b[0m \u001b[38;5;250m\u001b[39m\u001b[38;5;124;03m\"\"\"Send a complete request to the server.\"\"\"\u001b[39;00m\n\u001b[1;32m-> 1336\u001b[0m \u001b[38;5;28mself\u001b[39m\u001b[38;5;241m.\u001b[39m_send_request(method, url, body, headers, encode_chunked)\n",
      "File \u001b[1;32m~\\anaconda3\\Lib\\http\\client.py:1382\u001b[0m, in \u001b[0;36mHTTPConnection._send_request\u001b[1;34m(self, method, url, body, headers, encode_chunked)\u001b[0m\n\u001b[0;32m   1381\u001b[0m     body \u001b[38;5;241m=\u001b[39m _encode(body, \u001b[38;5;124m'\u001b[39m\u001b[38;5;124mbody\u001b[39m\u001b[38;5;124m'\u001b[39m)\n\u001b[1;32m-> 1382\u001b[0m \u001b[38;5;28mself\u001b[39m\u001b[38;5;241m.\u001b[39mendheaders(body, encode_chunked\u001b[38;5;241m=\u001b[39mencode_chunked)\n",
      "File \u001b[1;32m~\\anaconda3\\Lib\\http\\client.py:1331\u001b[0m, in \u001b[0;36mHTTPConnection.endheaders\u001b[1;34m(self, message_body, encode_chunked)\u001b[0m\n\u001b[0;32m   1330\u001b[0m     \u001b[38;5;28;01mraise\u001b[39;00m CannotSendHeader()\n\u001b[1;32m-> 1331\u001b[0m \u001b[38;5;28mself\u001b[39m\u001b[38;5;241m.\u001b[39m_send_output(message_body, encode_chunked\u001b[38;5;241m=\u001b[39mencode_chunked)\n",
      "File \u001b[1;32m~\\anaconda3\\Lib\\http\\client.py:1091\u001b[0m, in \u001b[0;36mHTTPConnection._send_output\u001b[1;34m(self, message_body, encode_chunked)\u001b[0m\n\u001b[0;32m   1090\u001b[0m \u001b[38;5;28;01mdel\u001b[39;00m \u001b[38;5;28mself\u001b[39m\u001b[38;5;241m.\u001b[39m_buffer[:]\n\u001b[1;32m-> 1091\u001b[0m \u001b[38;5;28mself\u001b[39m\u001b[38;5;241m.\u001b[39msend(msg)\n\u001b[0;32m   1093\u001b[0m \u001b[38;5;28;01mif\u001b[39;00m message_body \u001b[38;5;129;01mis\u001b[39;00m \u001b[38;5;129;01mnot\u001b[39;00m \u001b[38;5;28;01mNone\u001b[39;00m:\n\u001b[0;32m   1094\u001b[0m \n\u001b[0;32m   1095\u001b[0m     \u001b[38;5;66;03m# create a consistent interface to message_body\u001b[39;00m\n",
      "File \u001b[1;32m~\\anaconda3\\Lib\\http\\client.py:1035\u001b[0m, in \u001b[0;36mHTTPConnection.send\u001b[1;34m(self, data)\u001b[0m\n\u001b[0;32m   1034\u001b[0m \u001b[38;5;28;01mif\u001b[39;00m \u001b[38;5;28mself\u001b[39m\u001b[38;5;241m.\u001b[39mauto_open:\n\u001b[1;32m-> 1035\u001b[0m     \u001b[38;5;28mself\u001b[39m\u001b[38;5;241m.\u001b[39mconnect()\n\u001b[0;32m   1036\u001b[0m \u001b[38;5;28;01melse\u001b[39;00m:\n",
      "File \u001b[1;32m~\\anaconda3\\Lib\\http\\client.py:1470\u001b[0m, in \u001b[0;36mHTTPSConnection.connect\u001b[1;34m(self)\u001b[0m\n\u001b[0;32m   1468\u001b[0m \u001b[38;5;124m\"\u001b[39m\u001b[38;5;124mConnect to a host on a given (SSL) port.\u001b[39m\u001b[38;5;124m\"\u001b[39m\n\u001b[1;32m-> 1470\u001b[0m \u001b[38;5;28msuper\u001b[39m()\u001b[38;5;241m.\u001b[39mconnect()\n\u001b[0;32m   1472\u001b[0m \u001b[38;5;28;01mif\u001b[39;00m \u001b[38;5;28mself\u001b[39m\u001b[38;5;241m.\u001b[39m_tunnel_host:\n",
      "File \u001b[1;32m~\\anaconda3\\Lib\\http\\client.py:1001\u001b[0m, in \u001b[0;36mHTTPConnection.connect\u001b[1;34m(self)\u001b[0m\n\u001b[0;32m   1000\u001b[0m sys\u001b[38;5;241m.\u001b[39maudit(\u001b[38;5;124m\"\u001b[39m\u001b[38;5;124mhttp.client.connect\u001b[39m\u001b[38;5;124m\"\u001b[39m, \u001b[38;5;28mself\u001b[39m, \u001b[38;5;28mself\u001b[39m\u001b[38;5;241m.\u001b[39mhost, \u001b[38;5;28mself\u001b[39m\u001b[38;5;241m.\u001b[39mport)\n\u001b[1;32m-> 1001\u001b[0m \u001b[38;5;28mself\u001b[39m\u001b[38;5;241m.\u001b[39msock \u001b[38;5;241m=\u001b[39m \u001b[38;5;28mself\u001b[39m\u001b[38;5;241m.\u001b[39m_create_connection(\n\u001b[0;32m   1002\u001b[0m     (\u001b[38;5;28mself\u001b[39m\u001b[38;5;241m.\u001b[39mhost,\u001b[38;5;28mself\u001b[39m\u001b[38;5;241m.\u001b[39mport), \u001b[38;5;28mself\u001b[39m\u001b[38;5;241m.\u001b[39mtimeout, \u001b[38;5;28mself\u001b[39m\u001b[38;5;241m.\u001b[39msource_address)\n\u001b[0;32m   1003\u001b[0m \u001b[38;5;66;03m# Might fail in OSs that don't implement TCP_NODELAY\u001b[39;00m\n",
      "File \u001b[1;32m~\\anaconda3\\Lib\\socket.py:841\u001b[0m, in \u001b[0;36mcreate_connection\u001b[1;34m(address, timeout, source_address, all_errors)\u001b[0m\n\u001b[0;32m    840\u001b[0m exceptions \u001b[38;5;241m=\u001b[39m []\n\u001b[1;32m--> 841\u001b[0m \u001b[38;5;28;01mfor\u001b[39;00m res \u001b[38;5;129;01min\u001b[39;00m getaddrinfo(host, port, \u001b[38;5;241m0\u001b[39m, SOCK_STREAM):\n\u001b[0;32m    842\u001b[0m     af, socktype, proto, canonname, sa \u001b[38;5;241m=\u001b[39m res\n",
      "File \u001b[1;32m~\\anaconda3\\Lib\\socket.py:976\u001b[0m, in \u001b[0;36mgetaddrinfo\u001b[1;34m(host, port, family, type, proto, flags)\u001b[0m\n\u001b[0;32m    975\u001b[0m addrlist \u001b[38;5;241m=\u001b[39m []\n\u001b[1;32m--> 976\u001b[0m \u001b[38;5;28;01mfor\u001b[39;00m res \u001b[38;5;129;01min\u001b[39;00m _socket\u001b[38;5;241m.\u001b[39mgetaddrinfo(host, port, family, \u001b[38;5;28mtype\u001b[39m, proto, flags):\n\u001b[0;32m    977\u001b[0m     af, socktype, proto, canonname, sa \u001b[38;5;241m=\u001b[39m res\n",
      "\u001b[1;31mgaierror\u001b[0m: [Errno 11001] getaddrinfo failed",
      "\nDuring handling of the above exception, another exception occurred:\n",
      "\u001b[1;31mURLError\u001b[0m                                  Traceback (most recent call last)",
      "Cell \u001b[1;32mIn[8], line 3\u001b[0m\n\u001b[0;32m      1\u001b[0m \u001b[38;5;66;03m# Read csv file from url\u001b[39;00m\n\u001b[0;32m      2\u001b[0m url\u001b[38;5;241m=\u001b[39m\u001b[38;5;124m\"\u001b[39m\u001b[38;5;124mhttps://archive.ics.uci.edu/ml/machine-learning-databases/iris/iris.data\u001b[39m\u001b[38;5;124m\"\u001b[39m\n\u001b[1;32m----> 3\u001b[0m df_url\u001b[38;5;241m=\u001b[39mpd\u001b[38;5;241m.\u001b[39mread_csv(url)\n\u001b[0;32m      4\u001b[0m df_url\n",
      "File \u001b[1;32m~\\anaconda3\\Lib\\site-packages\\pandas\\io\\parsers\\readers.py:1026\u001b[0m, in \u001b[0;36mread_csv\u001b[1;34m(filepath_or_buffer, sep, delimiter, header, names, index_col, usecols, dtype, engine, converters, true_values, false_values, skipinitialspace, skiprows, skipfooter, nrows, na_values, keep_default_na, na_filter, verbose, skip_blank_lines, parse_dates, infer_datetime_format, keep_date_col, date_parser, date_format, dayfirst, cache_dates, iterator, chunksize, compression, thousands, decimal, lineterminator, quotechar, quoting, doublequote, escapechar, comment, encoding, encoding_errors, dialect, on_bad_lines, delim_whitespace, low_memory, memory_map, float_precision, storage_options, dtype_backend)\u001b[0m\n\u001b[0;32m   1013\u001b[0m kwds_defaults \u001b[38;5;241m=\u001b[39m _refine_defaults_read(\n\u001b[0;32m   1014\u001b[0m     dialect,\n\u001b[0;32m   1015\u001b[0m     delimiter,\n\u001b[1;32m   (...)\u001b[0m\n\u001b[0;32m   1022\u001b[0m     dtype_backend\u001b[38;5;241m=\u001b[39mdtype_backend,\n\u001b[0;32m   1023\u001b[0m )\n\u001b[0;32m   1024\u001b[0m kwds\u001b[38;5;241m.\u001b[39mupdate(kwds_defaults)\n\u001b[1;32m-> 1026\u001b[0m \u001b[38;5;28;01mreturn\u001b[39;00m _read(filepath_or_buffer, kwds)\n",
      "File \u001b[1;32m~\\anaconda3\\Lib\\site-packages\\pandas\\io\\parsers\\readers.py:620\u001b[0m, in \u001b[0;36m_read\u001b[1;34m(filepath_or_buffer, kwds)\u001b[0m\n\u001b[0;32m    617\u001b[0m _validate_names(kwds\u001b[38;5;241m.\u001b[39mget(\u001b[38;5;124m\"\u001b[39m\u001b[38;5;124mnames\u001b[39m\u001b[38;5;124m\"\u001b[39m, \u001b[38;5;28;01mNone\u001b[39;00m))\n\u001b[0;32m    619\u001b[0m \u001b[38;5;66;03m# Create the parser.\u001b[39;00m\n\u001b[1;32m--> 620\u001b[0m parser \u001b[38;5;241m=\u001b[39m TextFileReader(filepath_or_buffer, \u001b[38;5;241m*\u001b[39m\u001b[38;5;241m*\u001b[39mkwds)\n\u001b[0;32m    622\u001b[0m \u001b[38;5;28;01mif\u001b[39;00m chunksize \u001b[38;5;129;01mor\u001b[39;00m iterator:\n\u001b[0;32m    623\u001b[0m     \u001b[38;5;28;01mreturn\u001b[39;00m parser\n",
      "File \u001b[1;32m~\\anaconda3\\Lib\\site-packages\\pandas\\io\\parsers\\readers.py:1620\u001b[0m, in \u001b[0;36mTextFileReader.__init__\u001b[1;34m(self, f, engine, **kwds)\u001b[0m\n\u001b[0;32m   1617\u001b[0m     \u001b[38;5;28mself\u001b[39m\u001b[38;5;241m.\u001b[39moptions[\u001b[38;5;124m\"\u001b[39m\u001b[38;5;124mhas_index_names\u001b[39m\u001b[38;5;124m\"\u001b[39m] \u001b[38;5;241m=\u001b[39m kwds[\u001b[38;5;124m\"\u001b[39m\u001b[38;5;124mhas_index_names\u001b[39m\u001b[38;5;124m\"\u001b[39m]\n\u001b[0;32m   1619\u001b[0m \u001b[38;5;28mself\u001b[39m\u001b[38;5;241m.\u001b[39mhandles: IOHandles \u001b[38;5;241m|\u001b[39m \u001b[38;5;28;01mNone\u001b[39;00m \u001b[38;5;241m=\u001b[39m \u001b[38;5;28;01mNone\u001b[39;00m\n\u001b[1;32m-> 1620\u001b[0m \u001b[38;5;28mself\u001b[39m\u001b[38;5;241m.\u001b[39m_engine \u001b[38;5;241m=\u001b[39m \u001b[38;5;28mself\u001b[39m\u001b[38;5;241m.\u001b[39m_make_engine(f, \u001b[38;5;28mself\u001b[39m\u001b[38;5;241m.\u001b[39mengine)\n",
      "File \u001b[1;32m~\\anaconda3\\Lib\\site-packages\\pandas\\io\\parsers\\readers.py:1880\u001b[0m, in \u001b[0;36mTextFileReader._make_engine\u001b[1;34m(self, f, engine)\u001b[0m\n\u001b[0;32m   1878\u001b[0m     \u001b[38;5;28;01mif\u001b[39;00m \u001b[38;5;124m\"\u001b[39m\u001b[38;5;124mb\u001b[39m\u001b[38;5;124m\"\u001b[39m \u001b[38;5;129;01mnot\u001b[39;00m \u001b[38;5;129;01min\u001b[39;00m mode:\n\u001b[0;32m   1879\u001b[0m         mode \u001b[38;5;241m+\u001b[39m\u001b[38;5;241m=\u001b[39m \u001b[38;5;124m\"\u001b[39m\u001b[38;5;124mb\u001b[39m\u001b[38;5;124m\"\u001b[39m\n\u001b[1;32m-> 1880\u001b[0m \u001b[38;5;28mself\u001b[39m\u001b[38;5;241m.\u001b[39mhandles \u001b[38;5;241m=\u001b[39m get_handle(\n\u001b[0;32m   1881\u001b[0m     f,\n\u001b[0;32m   1882\u001b[0m     mode,\n\u001b[0;32m   1883\u001b[0m     encoding\u001b[38;5;241m=\u001b[39m\u001b[38;5;28mself\u001b[39m\u001b[38;5;241m.\u001b[39moptions\u001b[38;5;241m.\u001b[39mget(\u001b[38;5;124m\"\u001b[39m\u001b[38;5;124mencoding\u001b[39m\u001b[38;5;124m\"\u001b[39m, \u001b[38;5;28;01mNone\u001b[39;00m),\n\u001b[0;32m   1884\u001b[0m     compression\u001b[38;5;241m=\u001b[39m\u001b[38;5;28mself\u001b[39m\u001b[38;5;241m.\u001b[39moptions\u001b[38;5;241m.\u001b[39mget(\u001b[38;5;124m\"\u001b[39m\u001b[38;5;124mcompression\u001b[39m\u001b[38;5;124m\"\u001b[39m, \u001b[38;5;28;01mNone\u001b[39;00m),\n\u001b[0;32m   1885\u001b[0m     memory_map\u001b[38;5;241m=\u001b[39m\u001b[38;5;28mself\u001b[39m\u001b[38;5;241m.\u001b[39moptions\u001b[38;5;241m.\u001b[39mget(\u001b[38;5;124m\"\u001b[39m\u001b[38;5;124mmemory_map\u001b[39m\u001b[38;5;124m\"\u001b[39m, \u001b[38;5;28;01mFalse\u001b[39;00m),\n\u001b[0;32m   1886\u001b[0m     is_text\u001b[38;5;241m=\u001b[39mis_text,\n\u001b[0;32m   1887\u001b[0m     errors\u001b[38;5;241m=\u001b[39m\u001b[38;5;28mself\u001b[39m\u001b[38;5;241m.\u001b[39moptions\u001b[38;5;241m.\u001b[39mget(\u001b[38;5;124m\"\u001b[39m\u001b[38;5;124mencoding_errors\u001b[39m\u001b[38;5;124m\"\u001b[39m, \u001b[38;5;124m\"\u001b[39m\u001b[38;5;124mstrict\u001b[39m\u001b[38;5;124m\"\u001b[39m),\n\u001b[0;32m   1888\u001b[0m     storage_options\u001b[38;5;241m=\u001b[39m\u001b[38;5;28mself\u001b[39m\u001b[38;5;241m.\u001b[39moptions\u001b[38;5;241m.\u001b[39mget(\u001b[38;5;124m\"\u001b[39m\u001b[38;5;124mstorage_options\u001b[39m\u001b[38;5;124m\"\u001b[39m, \u001b[38;5;28;01mNone\u001b[39;00m),\n\u001b[0;32m   1889\u001b[0m )\n\u001b[0;32m   1890\u001b[0m \u001b[38;5;28;01massert\u001b[39;00m \u001b[38;5;28mself\u001b[39m\u001b[38;5;241m.\u001b[39mhandles \u001b[38;5;129;01mis\u001b[39;00m \u001b[38;5;129;01mnot\u001b[39;00m \u001b[38;5;28;01mNone\u001b[39;00m\n\u001b[0;32m   1891\u001b[0m f \u001b[38;5;241m=\u001b[39m \u001b[38;5;28mself\u001b[39m\u001b[38;5;241m.\u001b[39mhandles\u001b[38;5;241m.\u001b[39mhandle\n",
      "File \u001b[1;32m~\\anaconda3\\Lib\\site-packages\\pandas\\io\\common.py:728\u001b[0m, in \u001b[0;36mget_handle\u001b[1;34m(path_or_buf, mode, encoding, compression, memory_map, is_text, errors, storage_options)\u001b[0m\n\u001b[0;32m    725\u001b[0m     codecs\u001b[38;5;241m.\u001b[39mlookup_error(errors)\n\u001b[0;32m    727\u001b[0m \u001b[38;5;66;03m# open URLs\u001b[39;00m\n\u001b[1;32m--> 728\u001b[0m ioargs \u001b[38;5;241m=\u001b[39m _get_filepath_or_buffer(\n\u001b[0;32m    729\u001b[0m     path_or_buf,\n\u001b[0;32m    730\u001b[0m     encoding\u001b[38;5;241m=\u001b[39mencoding,\n\u001b[0;32m    731\u001b[0m     compression\u001b[38;5;241m=\u001b[39mcompression,\n\u001b[0;32m    732\u001b[0m     mode\u001b[38;5;241m=\u001b[39mmode,\n\u001b[0;32m    733\u001b[0m     storage_options\u001b[38;5;241m=\u001b[39mstorage_options,\n\u001b[0;32m    734\u001b[0m )\n\u001b[0;32m    736\u001b[0m handle \u001b[38;5;241m=\u001b[39m ioargs\u001b[38;5;241m.\u001b[39mfilepath_or_buffer\n\u001b[0;32m    737\u001b[0m handles: \u001b[38;5;28mlist\u001b[39m[BaseBuffer]\n",
      "File \u001b[1;32m~\\anaconda3\\Lib\\site-packages\\pandas\\io\\common.py:384\u001b[0m, in \u001b[0;36m_get_filepath_or_buffer\u001b[1;34m(filepath_or_buffer, encoding, compression, mode, storage_options)\u001b[0m\n\u001b[0;32m    382\u001b[0m \u001b[38;5;66;03m# assuming storage_options is to be interpreted as headers\u001b[39;00m\n\u001b[0;32m    383\u001b[0m req_info \u001b[38;5;241m=\u001b[39m urllib\u001b[38;5;241m.\u001b[39mrequest\u001b[38;5;241m.\u001b[39mRequest(filepath_or_buffer, headers\u001b[38;5;241m=\u001b[39mstorage_options)\n\u001b[1;32m--> 384\u001b[0m \u001b[38;5;28;01mwith\u001b[39;00m urlopen(req_info) \u001b[38;5;28;01mas\u001b[39;00m req:\n\u001b[0;32m    385\u001b[0m     content_encoding \u001b[38;5;241m=\u001b[39m req\u001b[38;5;241m.\u001b[39mheaders\u001b[38;5;241m.\u001b[39mget(\u001b[38;5;124m\"\u001b[39m\u001b[38;5;124mContent-Encoding\u001b[39m\u001b[38;5;124m\"\u001b[39m, \u001b[38;5;28;01mNone\u001b[39;00m)\n\u001b[0;32m    386\u001b[0m     \u001b[38;5;28;01mif\u001b[39;00m content_encoding \u001b[38;5;241m==\u001b[39m \u001b[38;5;124m\"\u001b[39m\u001b[38;5;124mgzip\u001b[39m\u001b[38;5;124m\"\u001b[39m:\n\u001b[0;32m    387\u001b[0m         \u001b[38;5;66;03m# Override compression based on Content-Encoding header\u001b[39;00m\n",
      "File \u001b[1;32m~\\anaconda3\\Lib\\site-packages\\pandas\\io\\common.py:289\u001b[0m, in \u001b[0;36murlopen\u001b[1;34m(*args, **kwargs)\u001b[0m\n\u001b[0;32m    283\u001b[0m \u001b[38;5;250m\u001b[39m\u001b[38;5;124;03m\"\"\"\u001b[39;00m\n\u001b[0;32m    284\u001b[0m \u001b[38;5;124;03mLazy-import wrapper for stdlib urlopen, as that imports a big chunk of\u001b[39;00m\n\u001b[0;32m    285\u001b[0m \u001b[38;5;124;03mthe stdlib.\u001b[39;00m\n\u001b[0;32m    286\u001b[0m \u001b[38;5;124;03m\"\"\"\u001b[39;00m\n\u001b[0;32m    287\u001b[0m \u001b[38;5;28;01mimport\u001b[39;00m \u001b[38;5;21;01murllib\u001b[39;00m\u001b[38;5;21;01m.\u001b[39;00m\u001b[38;5;21;01mrequest\u001b[39;00m\n\u001b[1;32m--> 289\u001b[0m \u001b[38;5;28;01mreturn\u001b[39;00m urllib\u001b[38;5;241m.\u001b[39mrequest\u001b[38;5;241m.\u001b[39murlopen(\u001b[38;5;241m*\u001b[39margs, \u001b[38;5;241m*\u001b[39m\u001b[38;5;241m*\u001b[39mkwargs)\n",
      "File \u001b[1;32m~\\anaconda3\\Lib\\urllib\\request.py:215\u001b[0m, in \u001b[0;36murlopen\u001b[1;34m(url, data, timeout, cafile, capath, cadefault, context)\u001b[0m\n\u001b[0;32m    213\u001b[0m \u001b[38;5;28;01melse\u001b[39;00m:\n\u001b[0;32m    214\u001b[0m     opener \u001b[38;5;241m=\u001b[39m _opener\n\u001b[1;32m--> 215\u001b[0m \u001b[38;5;28;01mreturn\u001b[39;00m opener\u001b[38;5;241m.\u001b[39mopen(url, data, timeout)\n",
      "File \u001b[1;32m~\\anaconda3\\Lib\\urllib\\request.py:515\u001b[0m, in \u001b[0;36mOpenerDirector.open\u001b[1;34m(self, fullurl, data, timeout)\u001b[0m\n\u001b[0;32m    512\u001b[0m     req \u001b[38;5;241m=\u001b[39m meth(req)\n\u001b[0;32m    514\u001b[0m sys\u001b[38;5;241m.\u001b[39maudit(\u001b[38;5;124m'\u001b[39m\u001b[38;5;124murllib.Request\u001b[39m\u001b[38;5;124m'\u001b[39m, req\u001b[38;5;241m.\u001b[39mfull_url, req\u001b[38;5;241m.\u001b[39mdata, req\u001b[38;5;241m.\u001b[39mheaders, req\u001b[38;5;241m.\u001b[39mget_method())\n\u001b[1;32m--> 515\u001b[0m response \u001b[38;5;241m=\u001b[39m \u001b[38;5;28mself\u001b[39m\u001b[38;5;241m.\u001b[39m_open(req, data)\n\u001b[0;32m    517\u001b[0m \u001b[38;5;66;03m# post-process response\u001b[39;00m\n\u001b[0;32m    518\u001b[0m meth_name \u001b[38;5;241m=\u001b[39m protocol\u001b[38;5;241m+\u001b[39m\u001b[38;5;124m\"\u001b[39m\u001b[38;5;124m_response\u001b[39m\u001b[38;5;124m\"\u001b[39m\n",
      "File \u001b[1;32m~\\anaconda3\\Lib\\urllib\\request.py:532\u001b[0m, in \u001b[0;36mOpenerDirector._open\u001b[1;34m(self, req, data)\u001b[0m\n\u001b[0;32m    529\u001b[0m     \u001b[38;5;28;01mreturn\u001b[39;00m result\n\u001b[0;32m    531\u001b[0m protocol \u001b[38;5;241m=\u001b[39m req\u001b[38;5;241m.\u001b[39mtype\n\u001b[1;32m--> 532\u001b[0m result \u001b[38;5;241m=\u001b[39m \u001b[38;5;28mself\u001b[39m\u001b[38;5;241m.\u001b[39m_call_chain(\u001b[38;5;28mself\u001b[39m\u001b[38;5;241m.\u001b[39mhandle_open, protocol, protocol \u001b[38;5;241m+\u001b[39m\n\u001b[0;32m    533\u001b[0m                           \u001b[38;5;124m'\u001b[39m\u001b[38;5;124m_open\u001b[39m\u001b[38;5;124m'\u001b[39m, req)\n\u001b[0;32m    534\u001b[0m \u001b[38;5;28;01mif\u001b[39;00m result:\n\u001b[0;32m    535\u001b[0m     \u001b[38;5;28;01mreturn\u001b[39;00m result\n",
      "File \u001b[1;32m~\\anaconda3\\Lib\\urllib\\request.py:492\u001b[0m, in \u001b[0;36mOpenerDirector._call_chain\u001b[1;34m(self, chain, kind, meth_name, *args)\u001b[0m\n\u001b[0;32m    490\u001b[0m \u001b[38;5;28;01mfor\u001b[39;00m handler \u001b[38;5;129;01min\u001b[39;00m handlers:\n\u001b[0;32m    491\u001b[0m     func \u001b[38;5;241m=\u001b[39m \u001b[38;5;28mgetattr\u001b[39m(handler, meth_name)\n\u001b[1;32m--> 492\u001b[0m     result \u001b[38;5;241m=\u001b[39m func(\u001b[38;5;241m*\u001b[39margs)\n\u001b[0;32m    493\u001b[0m     \u001b[38;5;28;01mif\u001b[39;00m result \u001b[38;5;129;01mis\u001b[39;00m \u001b[38;5;129;01mnot\u001b[39;00m \u001b[38;5;28;01mNone\u001b[39;00m:\n\u001b[0;32m    494\u001b[0m         \u001b[38;5;28;01mreturn\u001b[39;00m result\n",
      "File \u001b[1;32m~\\anaconda3\\Lib\\urllib\\request.py:1392\u001b[0m, in \u001b[0;36mHTTPSHandler.https_open\u001b[1;34m(self, req)\u001b[0m\n\u001b[0;32m   1391\u001b[0m \u001b[38;5;28;01mdef\u001b[39;00m \u001b[38;5;21mhttps_open\u001b[39m(\u001b[38;5;28mself\u001b[39m, req):\n\u001b[1;32m-> 1392\u001b[0m     \u001b[38;5;28;01mreturn\u001b[39;00m \u001b[38;5;28mself\u001b[39m\u001b[38;5;241m.\u001b[39mdo_open(http\u001b[38;5;241m.\u001b[39mclient\u001b[38;5;241m.\u001b[39mHTTPSConnection, req,\n\u001b[0;32m   1393\u001b[0m                         context\u001b[38;5;241m=\u001b[39m\u001b[38;5;28mself\u001b[39m\u001b[38;5;241m.\u001b[39m_context)\n",
      "File \u001b[1;32m~\\anaconda3\\Lib\\urllib\\request.py:1347\u001b[0m, in \u001b[0;36mAbstractHTTPHandler.do_open\u001b[1;34m(self, http_class, req, **http_conn_args)\u001b[0m\n\u001b[0;32m   1344\u001b[0m         h\u001b[38;5;241m.\u001b[39mrequest(req\u001b[38;5;241m.\u001b[39mget_method(), req\u001b[38;5;241m.\u001b[39mselector, req\u001b[38;5;241m.\u001b[39mdata, headers,\n\u001b[0;32m   1345\u001b[0m                   encode_chunked\u001b[38;5;241m=\u001b[39mreq\u001b[38;5;241m.\u001b[39mhas_header(\u001b[38;5;124m'\u001b[39m\u001b[38;5;124mTransfer-encoding\u001b[39m\u001b[38;5;124m'\u001b[39m))\n\u001b[0;32m   1346\u001b[0m     \u001b[38;5;28;01mexcept\u001b[39;00m \u001b[38;5;167;01mOSError\u001b[39;00m \u001b[38;5;28;01mas\u001b[39;00m err: \u001b[38;5;66;03m# timeout error\u001b[39;00m\n\u001b[1;32m-> 1347\u001b[0m         \u001b[38;5;28;01mraise\u001b[39;00m URLError(err)\n\u001b[0;32m   1348\u001b[0m     r \u001b[38;5;241m=\u001b[39m h\u001b[38;5;241m.\u001b[39mgetresponse()\n\u001b[0;32m   1349\u001b[0m \u001b[38;5;28;01mexcept\u001b[39;00m:\n",
      "\u001b[1;31mURLError\u001b[0m: <urlopen error [Errno 11001] getaddrinfo failed>"
     ]
    }
   ],
   "source": [
    "# Read csv file from url\n",
    "url=\"https://archive.ics.uci.edu/ml/machine-learning-databases/iris/iris.data\"\n",
    "df_url=pd.read_csv(url)\n",
    "df_url"
   ]
  },
  {
   "cell_type": "code",
   "execution_count": null,
   "id": "2930f72d-3d05-473b-aa2a-bcba04a9e012",
   "metadata": {},
   "outputs": [],
   "source": [
    "\n",
    "pip install ucimlrepo"
   ]
  },
  {
   "cell_type": "markdown",
   "id": "8cf8336e-3e11-4608-812d-5054f85bbdc8",
   "metadata": {},
   "source": [
    "from ucimlrepo import fetch_ucirepo \n",
    "  \n",
    "# fetch dataset \n",
    "heart_disease = fetch_ucirepo(id=45) \n",
    "  \n",
    "# data (as pandas dataframes) \n",
    "X = heart_disease.data.features \n",
    "y = heart_disease.data.targets \n",
    "  \n",
    "# metadata \n",
    "print(heart_disease.metadata) \n",
    "  \n",
    "# variable information \n",
    "print(heart_disease.variables) "
   ]
  },
  {
   "cell_type": "code",
   "execution_count": null,
   "id": "d33925ec-691c-476f-b352-c57933bc0f21",
   "metadata": {},
   "outputs": [],
   "source": [
    "from ucimlrepo import fetch_ucirepo \n",
    "  \n",
    "# fetch dataset \n",
    "heart_disease = fetch_ucirepo(id=45) \n",
    "  \n",
    "# data (as pandas dataframes) \n",
    "X = heart_disease.data.features \n",
    "y = heart_disease.data.targets \n",
    "  \n",
    "# metadata \n",
    "print(heart_disease.metadata) \n",
    "  \n",
    "# variable information \n",
    "print(heart_disease.variables) \n"
   ]
  },
  {
   "cell_type": "markdown",
   "id": "41a9606e-fc01-473a-a911-2a6d8531a637",
   "metadata": {},
   "source": [
    "# Read text file"
   ]
  },
  {
   "cell_type": "code",
   "execution_count": null,
   "id": "163b7a6a-d0d4-4ad2-b35a-43cb068dc5c8",
   "metadata": {},
   "outputs": [],
   "source": [
    "df_txt = pd.read_csv(\"C:\\\\Users\\\\LENOVO\\\\Desktop\\\\Pandas\\\\Datasets\\\\demo_text (1).txt\")\n",
    "df_txt"
   ]
  },
  {
   "cell_type": "code",
   "execution_count": null,
   "id": "7d7f90c1-01f0-4846-a8c8-63aecd159e25",
   "metadata": {},
   "outputs": [],
   "source": [
    "df_txt = pd.read_csv(\"C:\\\\advance java\\\\ana.txt\")\n",
    "df_txt"
   ]
  },
  {
   "cell_type": "markdown",
   "id": "3f419e06-caa3-42db-9bc9-93d7b2e93299",
   "metadata": {},
   "source": [
    "## Read excel files"
   ]
  },
  {
   "cell_type": "code",
   "execution_count": null,
   "id": "87957e47-6885-4965-bcd0-c7c1df1496b4",
   "metadata": {},
   "outputs": [],
   "source": [
    "df_excel = pd.read_excel('C:\\\\Users\\\\LENOVO\\\\Desktop\\\\Pandas\\\\Datasets\\\\excel_file (3).xlsx')\n",
    "df_excel"
   ]
  },
  {
   "cell_type": "markdown",
   "id": "60424ce1-0e67-4bc8-b3eb-5cb3c849045f",
   "metadata": {},
   "source": [
    "# 3. Data Preprocessing"
   ]
  },
  {
   "cell_type": "markdown",
   "id": "1d494c86-dab5-407d-bf26-ac149a928d0b",
   "metadata": {},
   "source": [
    "### Data preprocessing is the process of making raw data to clean data.This is the most crucial part of data science.Int this section , we will explore data first then we remove unwanted columns,remove duplicates,handle missing data etc. After this step,we get clean data from raw data."
   ]
  },
  {
   "cell_type": "markdown",
   "id": "bf866350-459c-4c77-af8a-ce7b46ed14c8",
   "metadata": {},
   "source": [
    "## 3.1 Data Exploring"
   ]
  },
  {
   "cell_type": "markdown",
   "id": "c8783c96-1079-4201-b093-1d895eb4a6d3",
   "metadata": {},
   "source": [
    "## Retriving rows from data frames"
   ]
  },
  {
   "cell_type": "code",
   "execution_count": null,
   "id": "20feed9b-6187-43d2-9f2b-be1385dba1d5",
   "metadata": {},
   "outputs": [],
   "source": [
    "# Display first 6 rows \n",
    "df.head(6)"
   ]
  },
  {
   "cell_type": "code",
   "execution_count": null,
   "id": "52acc434-f88c-4eac-b70f-7a554901c61a",
   "metadata": {},
   "outputs": [],
   "source": [
    "# Display last 6 rows\n",
    "df.tail(6)"
   ]
  },
  {
   "cell_type": "markdown",
   "id": "67a71b56-ad20-4318-b31c-7d6ba6bae69a",
   "metadata": {},
   "source": [
    "df.sample(6)"
   ]
  },
  {
   "cell_type": "code",
   "execution_count": null,
   "id": "7ad09251-9490-4477-a77f-4b0aedd2a4d3",
   "metadata": {},
   "outputs": [],
   "source": [
    "df.sample()"
   ]
  },
  {
   "cell_type": "markdown",
   "id": "f2196c31-b949-42d2-8e7c-d23323c94e5d",
   "metadata": {},
   "source": [
    "## Retrieving information about dataframe"
   ]
  },
  {
   "cell_type": "code",
   "execution_count": null,
   "id": "374d78c9-6a8d-4ff3-a982-75cc5d42aedb",
   "metadata": {},
   "outputs": [],
   "source": [
    "df.info()"
   ]
  },
  {
   "cell_type": "code",
   "execution_count": null,
   "id": "3822ecd6-504a-4006-87df-067fc144e369",
   "metadata": {},
   "outputs": [],
   "source": [
    "# Display datatype\n",
    "df.dtypes"
   ]
  },
  {
   "cell_type": "code",
   "execution_count": null,
   "id": "178637ff-d863-48e2-a263-a67a79e535ee",
   "metadata": {},
   "outputs": [],
   "source": [
    "df.dtypes.value_counts()"
   ]
  },
  {
   "cell_type": "markdown",
   "id": "190321a1-7cd6-4146-a179-4c6d3980d4d3",
   "metadata": {},
   "source": [
    "## Display no of rows and columns"
   ]
  },
  {
   "cell_type": "code",
   "execution_count": null,
   "id": "3cb65d13-d410-4b57-b0dc-ec2c7e6cd344",
   "metadata": {},
   "outputs": [],
   "source": [
    "df.shape"
   ]
  },
  {
   "cell_type": "code",
   "execution_count": null,
   "id": "578fd460-3f18-4552-87e0-902670855bdc",
   "metadata": {},
   "outputs": [],
   "source": [
    "df.columns"
   ]
  },
  {
   "cell_type": "code",
   "execution_count": null,
   "id": "362bdbf3-0e7f-44da-ba15-c8187ee2cb52",
   "metadata": {},
   "outputs": [],
   "source": [
    "# Display age of columns first 3 rows\n",
    "df['Age'].head(3)"
   ]
  },
  {
   "cell_type": "code",
   "execution_count": null,
   "id": "1dea6443-4917-40ae-83ae-718de6657f90",
   "metadata": {},
   "outputs": [],
   "source": [
    "df_excel.shape"
   ]
  },
  {
   "cell_type": "code",
   "execution_count": null,
   "id": "64a609eb-fa06-4641-b766-56c12ed12a8f",
   "metadata": {},
   "outputs": [],
   "source": [
    "# Display first 4 rows of Age,Transaction_date and Gender columns\n",
    "df[['Age','Transaction_date','Gender']].head(4)"
   ]
  },
  {
   "cell_type": "markdown",
   "id": "82147641-6d35-4018-8c0d-ca7bcae3e269",
   "metadata": {},
   "source": [
    "# Retrieving a Range of Rows"
   ]
  },
  {
   "cell_type": "code",
   "execution_count": null,
   "id": "2747faaf-aa43-4c26-b6aa-e92f48c69307",
   "metadata": {},
   "outputs": [],
   "source": [
    "# for display 2nd to 6th rows\n",
    "df[2:7]"
   ]
  },
  {
   "cell_type": "code",
   "execution_count": null,
   "id": "58cf12b9-0427-4808-9ad8-92d823ace47a",
   "metadata": {},
   "outputs": [],
   "source": [
    "# for display staring to 10th\n",
    "df[:11]"
   ]
  },
  {
   "cell_type": "code",
   "execution_count": null,
   "id": "1aae53c4-cb15-4149-8bea-8e5750b2d81b",
   "metadata": {},
   "outputs": [],
   "source": [
    "# for display last two rows\n",
    "df[-2:]"
   ]
  },
  {
   "cell_type": "markdown",
   "id": "071e6bb2-5b9a-44cb-b557-7fa851f5c57f",
   "metadata": {},
   "source": [
    "# 3.2 Data Cleaning"
   ]
  },
  {
   "cell_type": "markdown",
   "id": "ee47dade-7647-4534-8791-cd2c0260c32e",
   "metadata": {},
   "source": [
    "### After the explore our datasets may used to clean them for better analysis. Data coming from multiple source so it's possible to have an error in some value. This is where data cleaning becomes extremely important. In this section, we wiil delete unwanted columns,rename columns,correct appropriate data type etc."
   ]
  },
  {
   "cell_type": "markdown",
   "id": "d2ce6e47-b1e8-45f2-a07d-e4ff525ac5f2",
   "metadata": {},
   "source": [
    "## Delete column name"
   ]
  },
  {
   "cell_type": "code",
   "execution_count": null,
   "id": "41c61324-012e-4d1e-ac11-a3b45af0ae12",
   "metadata": {},
   "outputs": [],
   "source": [
    "# Drop unwanted column\n",
    "df.drop(['Transaction_ID'],axis=1,inplace=True)"
   ]
  },
  {
   "cell_type": "code",
   "execution_count": null,
   "id": "55725805-b204-4f61-ba73-dbcfb9f3fbce",
   "metadata": {},
   "outputs": [],
   "source": [
    "df"
   ]
  },
  {
   "cell_type": "code",
   "execution_count": null,
   "id": "568a431e-ff08-4b12-9066-e78490a34ded",
   "metadata": {},
   "outputs": [],
   "source": [
    "# Change column name...\n",
    "\n",
    "\n",
    "# create new df_col dataframe from df.copy () method\n",
    "df_col = df.copy()\n",
    "df_col"
   ]
  },
  {
   "cell_type": "code",
   "execution_count": null,
   "id": "0472833e-d136-4ddd-a3b8-a8dffe4d4bbd",
   "metadata": {},
   "outputs": [],
   "source": [
    "# rename columns name\n",
    "df_col.rename(columns={\"Transaction_date\":\"Date\",\"Gender\":\"Sex\"},inplace=True)\n",
    "df_col.head(3)"
   ]
  },
  {
   "cell_type": "markdown",
   "id": "561776c5-e77b-44ab-874b-af3a00040c53",
   "metadata": {},
   "source": [
    "## Adding a new column to a dataframe"
   ]
  },
  {
   "cell_type": "code",
   "execution_count": null,
   "id": "e864c2c1-a98d-4835-903a-3264d9ac9094",
   "metadata": {},
   "outputs": [],
   "source": [
    "# add a new adjusted column which value will be amount_spent + 10\n",
    "df_col['new_col'] = df_col['Amount_spent'] * 10\n"
   ]
  },
  {
   "cell_type": "code",
   "execution_count": null,
   "id": "1c5dafbd-d586-4a9e-a8f8-4188b9a25025",
   "metadata": {},
   "outputs": [],
   "source": [
    "df_col"
   ]
  },
  {
   "cell_type": "markdown",
   "id": "a681e04c-8685-46c9-877d-61d464343f18",
   "metadata": {},
   "source": [
    "## String value change or replace"
   ]
  },
  {
   "cell_type": "code",
   "execution_count": null,
   "id": "602acd61-670f-45e3-9a13-7b6b170cdcbe",
   "metadata": {},
   "outputs": [],
   "source": [
    "df_col.head(3)"
   ]
  },
  {
   "cell_type": "code",
   "execution_count": null,
   "id": "0bda6287-19e2-4935-a751-ccff00806f20",
   "metadata": {},
   "outputs": [],
   "source": [
    "# changing female to woman and male to man in c]sex column \n",
    "# first agrument in loc function is condition and second one is columns name.\n",
    "df_col.loc[df_col.Sex == \"Female\",'Sex'] = 'Woman'\n",
    "df_col.loc[df_col.Sex == \"Male\",'Sex'] = 'Man'"
   ]
  },
  {
   "cell_type": "code",
   "execution_count": null,
   "id": "b0361585-93f4-455f-9af7-61f2cc58673c",
   "metadata": {},
   "outputs": [],
   "source": [
    "df_col"
   ]
  },
  {
   "cell_type": "markdown",
   "id": "26fe1960-efff-4abd-9fc6-03b04493af7d",
   "metadata": {},
   "source": [
    "## Datatypes change"
   ]
  },
  {
   "cell_type": "code",
   "execution_count": null,
   "id": "d6923788-c205-4e9f-8934-96b8550bdc90",
   "metadata": {},
   "outputs": [],
   "source": [
    "df_col.info()"
   ]
  },
  {
   "cell_type": "markdown",
   "id": "d1fab7e2-d765-4b3a-b447-300a79465cbb",
   "metadata": {},
   "source": [
    "##In our date columns, its object type so now we will convert this to date types,and also we will convert Referal columns float64 to float32"
   ]
  },
  {
   "cell_type": "code",
   "execution_count": null,
   "id": "70a5c79f-f853-4410-8c27-323a84541765",
   "metadata": {},
   "outputs": [],
   "source": [
    "# Change object type to dataframe64 format\n",
    "df_col['Date'].astype('datetime64[ns]')"
   ]
  },
  {
   "cell_type": "code",
   "execution_count": null,
   "id": "75262129-2ae0-45b7-8a71-73d777f6ecc1",
   "metadata": {},
   "outputs": [],
   "source": [
    "# change float64 to float32 of Referal columns\n",
    "df_col['Referal'] = df_col['Referal'].astype('float32')"
   ]
  },
  {
   "cell_type": "code",
   "execution_count": null,
   "id": "20d3dbdc-df50-4b7f-b383-f9f0bd3a82ba",
   "metadata": {},
   "outputs": [],
   "source": [
    "df_col.info()"
   ]
  },
  {
   "cell_type": "markdown",
   "id": "8e9893f5-fdc5-45aa-beac-5c1769f7a988",
   "metadata": {},
   "source": [
    "## Remove duplicate"
   ]
  },
  {
   "cell_type": "code",
   "execution_count": null,
   "id": "dbaffa91-e36d-409c-8983-ed4b554881f2",
   "metadata": {},
   "outputs": [],
   "source": [
    "# Display duplicated entries\n",
    "df_col.duplicated().sum()"
   ]
  },
  {
   "cell_type": "code",
   "execution_count": null,
   "id": "b0c85b79-a165-443f-ab3e-549f1cc38c55",
   "metadata": {},
   "outputs": [],
   "source": [
    "# duplicate rows display , keeparguments will---- 'first','last'and false \n",
    "duplicate_value = df.duplicated(keep='first')\n",
    "duplicate_value\n",
    " #df.loc[duplicated_value,:]"
   ]
  },
  {
   "cell_type": "code",
   "execution_count": null,
   "id": "7ae3ca26-f41f-4125-96d8-841fa1a11b02",
   "metadata": {},
   "outputs": [],
   "source": [
    "# Droppingall duplicate values\n",
    "df.drop_duplicates(keep = 'first',inplace = True)\n",
    "df.drop_duplicates()"
   ]
  },
  {
   "cell_type": "markdown",
   "id": "d2b1209c-cf4f-463f-99a1-6f1c633e25c2",
   "metadata": {},
   "source": [
    "## Handling missing values"
   ]
  },
  {
   "cell_type": "markdown",
   "id": "423103b7-3e18-44e2-810f-f45b9a3327af",
   "metadata": {},
   "source": [
    "### Handling missing values in the comman task in the data pre-processing part. For many reasons most of the time we will encounter missing values. Without dealing with this we cant't do the proper model building. For this section first we will find out missing values then we decided how to handle them. We can handle this by removing affectd columns or rows or replacing appropriate value there."
   ]
  },
  {
   "cell_type": "markdown",
   "id": "fbebfdd7-5481-40d0-9715-e3e81e55a722",
   "metadata": {},
   "source": [
    "## Display missing values information"
   ]
  },
  {
   "cell_type": "code",
   "execution_count": null,
   "id": "4f6a7700-4e0c-4c2d-9962-32b2fdf6d62b",
   "metadata": {},
   "outputs": [],
   "source": [
    "import pandas as pd\n",
    "import numpy as np"
   ]
  },
  {
   "cell_type": "code",
   "execution_count": null,
   "id": "5da36031-d5fc-434c-bd30-e51e3e90c3fa",
   "metadata": {},
   "outputs": [],
   "source": [
    "df = pd.read_csv('C:\\\\Users\\\\LENOVO\\\\Desktop\\\\Pandas\\\\Datasets\\\\online_store_customer_data.csv')\n",
    "df.head(10)"
   ]
  },
  {
   "cell_type": "code",
   "execution_count": null,
   "id": "ace74828-3336-4163-a746-c763371fc3a3",
   "metadata": {},
   "outputs": [],
   "source": [
    "df.isna().sum().sort_values(ascending=False)"
   ]
  },
  {
   "cell_type": "code",
   "execution_count": null,
   "id": "03a12392-7547-4439-b3cd-a422968860ec",
   "metadata": {},
   "outputs": [],
   "source": [
    "df"
   ]
  },
  {
   "cell_type": "markdown",
   "id": "3ff1a35d-d0aa-456d-b2c8-d64387745e1c",
   "metadata": {},
   "source": [
    "## Delete Nan rows"
   ]
  },
  {
   "cell_type": "markdown",
   "id": "f4903b4f-1e62-4a6a-bede-03d70c55c446",
   "metadata": {},
   "source": [
    "### If we have less nan value then we can delete entire rows by dropna() function. For this function,we will add columns name in subset parameter."
   ]
  },
  {
   "cell_type": "code",
   "execution_count": null,
   "id": "6e50b391-9836-4399-ab06-022d8b6d32d2",
   "metadata": {},
   "outputs": [],
   "source": [
    "# df copy to df_copy\n",
    "df_new = df.copy()"
   ]
  },
  {
   "cell_type": "code",
   "execution_count": null,
   "id": "afdf983e-5a9b-476c-9298-2a3c2c6b1c38",
   "metadata": {},
   "outputs": [],
   "source": [
    "df_new"
   ]
  },
  {
   "cell_type": "code",
   "execution_count": null,
   "id": "803ebe13-260e-4779-affa-26e896983449",
   "metadata": {},
   "outputs": [],
   "source": [
    "# Delete Nan rows of Employee_status columns \n",
    "df_new.dropna(subset = [\"Employees_status\"], inplace=True)\n",
    "df_new"
   ]
  },
  {
   "cell_type": "code",
   "execution_count": null,
   "id": "317453c1-cb38-4835-b4f2-c06efec3f516",
   "metadata": {},
   "outputs": [],
   "source": [
    "df_new"
   ]
  },
  {
   "cell_type": "markdown",
   "id": "bfb46758-7297-4897-8eff-9d878b787408",
   "metadata": {},
   "source": [
    "# Delete entire coulmns"
   ]
  },
  {
   "cell_type": "code",
   "execution_count": null,
   "id": "c55b3741-9e27-4836-add0-9c1d0b1bfb03",
   "metadata": {},
   "outputs": [],
   "source": [
    "df_new.dropna(subset=['Segment'], inplace=True)\n",
    "df_new"
   ]
  },
  {
   "cell_type": "code",
   "execution_count": null,
   "id": "d4d936cd-9989-437c-824f-c59a406ec29d",
   "metadata": {},
   "outputs": [],
   "source": [
    "df_new.isna().sum().sort_values(ascending=False)"
   ]
  },
  {
   "cell_type": "markdown",
   "id": "dc68f7ad-d0b7-49fa-aa10-c19b7ee5e827",
   "metadata": {},
   "source": [
    "## Immute missing values"
   ]
  },
  {
   "cell_type": "code",
   "execution_count": null,
   "id": "657e4848-e99a-4655-a2b6-933437f70eaa",
   "metadata": {},
   "outputs": [],
   "source": [
    "df_new.info()"
   ]
  },
  {
   "cell_type": "markdown",
   "id": "b22122c8-e986-4f7b-a533-e02b93ff41e8",
   "metadata": {},
   "source": [
    "### Sometimes if we delete entire columns that will be not the appropriate approach. Delete columns can affect our model building because we will lose our  main features. For imputing wenhave many approaches to here are ome of the most popular technique."
   ]
  },
  {
   "cell_type": "markdown",
   "id": "98130d7c-61c9-41e2-abbe-241fd94c70fb",
   "metadata": {},
   "source": [
    "### Method 1: Impute fixed value like 0,'Unknown ' or 'Missing 'etc.We impute Unknown in Gender columns."
   ]
  },
  {
   "cell_type": "code",
   "execution_count": null,
   "id": "694c81ca-21bd-4f9f-837b-160740d9a32a",
   "metadata": {},
   "outputs": [],
   "source": [
    "df"
   ]
  },
  {
   "cell_type": "code",
   "execution_count": null,
   "id": "62e434da-19f0-4129-8e1b-320816bb0bd2",
   "metadata": {},
   "outputs": [],
   "source": [
    "df['Gender'].fillna('Unknown',inplace=True)"
   ]
  },
  {
   "cell_type": "code",
   "execution_count": null,
   "id": "fbbcfa20-871e-479d-9ff8-b19c5d26bf7d",
   "metadata": {},
   "outputs": [],
   "source": [
    "df"
   ]
  },
  {
   "cell_type": "markdown",
   "id": "8a335fc6-786f-4da7-8a84-5411db0bac90",
   "metadata": {},
   "source": [
    "### Method 2: Impute Mean,median and mode"
   ]
  },
  {
   "cell_type": "code",
   "execution_count": null,
   "id": "3d7553b5-c714-41fb-89d5-ee7e5cf026c3",
   "metadata": {},
   "outputs": [],
   "source": [
    "df_new"
   ]
  },
  {
   "cell_type": "code",
   "execution_count": null,
   "id": "d9b51339-03d2-41b7-8d05-5eb0209c4500",
   "metadata": {},
   "outputs": [],
   "source": [
    "df"
   ]
  },
  {
   "cell_type": "code",
   "execution_count": null,
   "id": "e43829a2-0e59-4637-a356-577d38a3c54c",
   "metadata": {},
   "outputs": [],
   "source": [
    "# Impute Mean in Amount_spent columns\n",
    "mean_Amount_spent = df['Amount_spent'].mean()\n",
    "df['Amount_spent'].fillna(mean_Amount_spent, inplace=True)\n",
    "df\n",
    "mean_Amount_spent"
   ]
  },
  {
   "cell_type": "code",
   "execution_count": null,
   "id": "95cb134a-1a2f-40a9-8fa3-96bb7fb5de22",
   "metadata": {},
   "outputs": [],
   "source": [
    "# Impute Median in Age column\n",
    "median_Age = df['Age'].median()\n",
    "df['Age'].fillna(median_Age, inplace=True)\n",
    "df\n",
    "median_Age"
   ]
  },
  {
   "cell_type": "code",
   "execution_count": null,
   "id": "1456009b-0e76-4626-8a8e-e8ddd26def39",
   "metadata": {},
   "outputs": [],
   "source": [
    "# Impute Mode in Employees_status columns\n",
    "mode_emp = df['Employees_status'].mode().iloc[0]\n",
    "df['Employees_status'].fillna(mode_emp, inplace=True)\n",
    "df\n",
    "mode_emp"
   ]
  },
  {
   "cell_type": "code",
   "execution_count": null,
   "id": "42a9dd0b-0b60-4dbe-b256-b7a775a9ce4a",
   "metadata": {},
   "outputs": [],
   "source": [
    "mean_Amount_spent"
   ]
  },
  {
   "cell_type": "code",
   "execution_count": null,
   "id": "c003e7f4-a1ba-4982-b61a-7734dd794b40",
   "metadata": {},
   "outputs": [],
   "source": [
    "median_Age"
   ]
  },
  {
   "cell_type": "code",
   "execution_count": null,
   "id": "5806eccc-e9ae-4ce5-92ac-232e044e76df",
   "metadata": {},
   "outputs": [],
   "source": [
    "mode_emp"
   ]
  },
  {
   "cell_type": "markdown",
   "id": "04418bd9-a967-4bf0-b48c-5dd7df09176d",
   "metadata": {},
   "source": [
    "#### Method 3 : Imputing forward fill or backfill by ffill and bfill.In ffill missing value impute from the values of the above row and for bfill it;s taken from the below rows value."
   ]
  },
  {
   "cell_type": "code",
   "execution_count": null,
   "id": "c0c8ce3e-c7a9-430d-a999-687a09c368d8",
   "metadata": {},
   "outputs": [],
   "source": [
    "df"
   ]
  },
  {
   "cell_type": "code",
   "execution_count": null,
   "id": "5ad3aba0-8ecf-4bff-a93c-227c714d4249",
   "metadata": {},
   "outputs": [],
   "source": [
    "df['Referal'].fillna(method='ffill', inplace=True)\n",
    "df"
   ]
  },
  {
   "cell_type": "code",
   "execution_count": null,
   "id": "b3be53b9-b463-4136-a8de-0bd5e445b639",
   "metadata": {},
   "outputs": [],
   "source": [
    "df.isna().sum().sum()"
   ]
  },
  {
   "cell_type": "code",
   "execution_count": null,
   "id": "d26b0610-7943-4256-bac6-fede94c4a4c6",
   "metadata": {},
   "outputs": [],
   "source": [
    "df.isna().sum().sort_values(ascending=False)"
   ]
  },
  {
   "cell_type": "markdown",
   "id": "eb0b8f81-2d4f-481e-867d-f1167c542462",
   "metadata": {},
   "source": [
    "## Memoey management"
   ]
  },
  {
   "cell_type": "markdown",
   "id": "1665c3ae-b68a-479e-b677-52988bc03e9b",
   "metadata": {},
   "source": [
    "### When we work on large datasets ,there we get one big issue is a memory problem. We need to large resources for dealing with this. But there are some methods in pandas to deal with this.Here are some methods or strategies to deal with this problems with the help of pandas."
   ]
  },
  {
   "cell_type": "code",
   "execution_count": null,
   "id": "ce1c1991-f963-4ac1-b60d-5207dcaa1715",
   "metadata": {},
   "outputs": [],
   "source": [
    "df_memory=df.copy()"
   ]
  },
  {
   "cell_type": "code",
   "execution_count": null,
   "id": "d258d70b-700d-4de2-b74c-664cf2692139",
   "metadata": {},
   "outputs": [],
   "source": [
    "df_memory"
   ]
  },
  {
   "cell_type": "code",
   "execution_count": null,
   "id": "5e0e313f-8421-406a-b90a-f469689ee20d",
   "metadata": {},
   "outputs": [],
   "source": [
    "memory_usage=df_memory.memory_usage(deep=True)\n",
    "memory_usage_in_mbs=round(np.sum(memory_usage)/1024**2,3)\n",
    "print(f\"Total memory taking df_memory dattaframe is:{memory_usage_in_mbs:.2f} MB\")"
   ]
  },
  {
   "cell_type": "markdown",
   "id": "36e4b1e3-c07a-4ff9-ab67-b2bb74889e41",
   "metadata": {},
   "source": [
    "## Change object to category datatypes"
   ]
  },
  {
   "cell_type": "markdown",
   "id": "209edb74-9f1e-47ea-9f89-ddf9b2027725",
   "metadata": {},
   "source": [
    "Our data frame is small in size. Which is 1.15 MB .Now we will convert our object datatype to category"
   ]
  },
  {
   "cell_type": "code",
   "execution_count": null,
   "id": "813252d2-d31f-4a4e-9726-064f8bee1e7c",
   "metadata": {},
   "outputs": [],
   "source": [
    "# Object datatype to category convert\n",
    "df_memory[df_memory.select_dtypes(['object']).columns]=df_memory.select_dtypes(['object']).apply(lambda x: x.astype('category'))\n",
    "df_memory"
   ]
  },
  {
   "cell_type": "code",
   "execution_count": null,
   "id": "f20a079d-dafc-4d7b-9360-67466099ef87",
   "metadata": {},
   "outputs": [],
   "source": [
    "# convert object to category\n",
    "df_memory.info(memory_usage=\"deep\")"
   ]
  },
  {
   "cell_type": "markdown",
   "id": "fd6daf25-9ecf-48c0-8b79-88471faa85da",
   "metadata": {},
   "source": [
    "## Change int64 or float64 to int 32,16,8 "
   ]
  },
  {
   "cell_type": "markdown",
   "id": "5eb7ca13-db55-47b4-aeb3-ca262fe10313",
   "metadata": {},
   "source": [
    "By default pandas store numeric values to int64 or float64.Which takes more memory.If we have to store small numbers then we can change to 64 to 32,16 and so on.For example,our Referal columns have only 0 and 1 values so for that we don't need to store at float64.so now we change it to float16."
   ]
  },
  {
   "cell_type": "code",
   "execution_count": null,
   "id": "4bbeeb5f-cf18-432c-889f-4c7437e4ec41",
   "metadata": {},
   "outputs": [],
   "source": [
    "# change referal column datatype\n",
    "df_memory['Referal']=df_memory['Referal'].astype('float32')"
   ]
  },
  {
   "cell_type": "markdown",
   "id": "a74e143d-e6e8-4709-8e3c-c0909325f06e",
   "metadata": {},
   "source": [
    "## Data Analysis"
   ]
  },
  {
   "cell_type": "markdown",
   "id": "4e6f9151-c9b6-4e9b-a4c0-1bec79280e14",
   "metadata": {},
   "source": [
    "### 5.1 Calculating Basic Statistical measurment"
   ]
  },
  {
   "cell_type": "code",
   "execution_count": 9,
   "id": "bd12d642-dc8e-4d51-9d65-bfca5c72d8b2",
   "metadata": {},
   "outputs": [
    {
     "data": {
      "text/html": [
       "<div>\n",
       "<style scoped>\n",
       "    .dataframe tbody tr th:only-of-type {\n",
       "        vertical-align: middle;\n",
       "    }\n",
       "\n",
       "    .dataframe tbody tr th {\n",
       "        vertical-align: top;\n",
       "    }\n",
       "\n",
       "    .dataframe thead th {\n",
       "        text-align: right;\n",
       "    }\n",
       "</style>\n",
       "<table border=\"1\" class=\"dataframe\">\n",
       "  <thead>\n",
       "    <tr style=\"text-align: right;\">\n",
       "      <th></th>\n",
       "      <th>count</th>\n",
       "      <th>mean</th>\n",
       "      <th>std</th>\n",
       "      <th>min</th>\n",
       "      <th>25%</th>\n",
       "      <th>50%</th>\n",
       "      <th>75%</th>\n",
       "      <th>max</th>\n",
       "    </tr>\n",
       "  </thead>\n",
       "  <tbody>\n",
       "    <tr>\n",
       "      <th>Transaction_ID</th>\n",
       "      <td>2512.0</td>\n",
       "      <td>152443.931131</td>\n",
       "      <td>724.580482</td>\n",
       "      <td>151200.00</td>\n",
       "      <td>151815.7500</td>\n",
       "      <td>152443.500</td>\n",
       "      <td>153071.2500</td>\n",
       "      <td>153699.00</td>\n",
       "    </tr>\n",
       "    <tr>\n",
       "      <th>Age</th>\n",
       "      <td>2470.0</td>\n",
       "      <td>46.637652</td>\n",
       "      <td>18.186277</td>\n",
       "      <td>15.00</td>\n",
       "      <td>32.0000</td>\n",
       "      <td>47.000</td>\n",
       "      <td>62.0000</td>\n",
       "      <td>78.00</td>\n",
       "    </tr>\n",
       "    <tr>\n",
       "      <th>Referal</th>\n",
       "      <td>2356.0</td>\n",
       "      <td>0.651952</td>\n",
       "      <td>0.476452</td>\n",
       "      <td>0.00</td>\n",
       "      <td>0.0000</td>\n",
       "      <td>1.000</td>\n",
       "      <td>1.0000</td>\n",
       "      <td>1.00</td>\n",
       "    </tr>\n",
       "    <tr>\n",
       "      <th>Amount_spent</th>\n",
       "      <td>2270.0</td>\n",
       "      <td>1418.422577</td>\n",
       "      <td>878.507451</td>\n",
       "      <td>2.09</td>\n",
       "      <td>678.1925</td>\n",
       "      <td>1341.435</td>\n",
       "      <td>2038.1025</td>\n",
       "      <td>2999.98</td>\n",
       "    </tr>\n",
       "  </tbody>\n",
       "</table>\n",
       "</div>"
      ],
      "text/plain": [
       "                 count           mean         std        min          25%  \\\n",
       "Transaction_ID  2512.0  152443.931131  724.580482  151200.00  151815.7500   \n",
       "Age             2470.0      46.637652   18.186277      15.00      32.0000   \n",
       "Referal         2356.0       0.651952    0.476452       0.00       0.0000   \n",
       "Amount_spent    2270.0    1418.422577  878.507451       2.09     678.1925   \n",
       "\n",
       "                       50%          75%        max  \n",
       "Transaction_ID  152443.500  153071.2500  153699.00  \n",
       "Age                 47.000      62.0000      78.00  \n",
       "Referal              1.000       1.0000       1.00  \n",
       "Amount_spent      1341.435    2038.1025    2999.98  "
      ]
     },
     "execution_count": 9,
     "metadata": {},
     "output_type": "execute_result"
    }
   ],
   "source": [
    "df.describe().T"
   ]
  },
  {
   "cell_type": "markdown",
   "id": "cf32f315-b076-41e1-bdfd-be030d5d7a75",
   "metadata": {},
   "source": [
    "We know already above code will display only numeric columns basic statistical information for object or category columns we can use describe(include=object)"
   ]
  },
  {
   "cell_type": "code",
   "execution_count": 12,
   "id": "0cc291f0-faf2-4654-a4d9-319a5706bd91",
   "metadata": {},
   "outputs": [
    {
     "data": {
      "text/html": [
       "<div>\n",
       "<style scoped>\n",
       "    .dataframe tbody tr th:only-of-type {\n",
       "        vertical-align: middle;\n",
       "    }\n",
       "\n",
       "    .dataframe tbody tr th {\n",
       "        vertical-align: top;\n",
       "    }\n",
       "\n",
       "    .dataframe thead th {\n",
       "        text-align: right;\n",
       "    }\n",
       "</style>\n",
       "<table border=\"1\" class=\"dataframe\">\n",
       "  <thead>\n",
       "    <tr style=\"text-align: right;\">\n",
       "      <th></th>\n",
       "      <th>count</th>\n",
       "      <th>unique</th>\n",
       "      <th>top</th>\n",
       "      <th>freq</th>\n",
       "    </tr>\n",
       "  </thead>\n",
       "  <tbody>\n",
       "    <tr>\n",
       "      <th>Transaction_date</th>\n",
       "      <td>2512</td>\n",
       "      <td>810</td>\n",
       "      <td>8/29/2020</td>\n",
       "      <td>12</td>\n",
       "    </tr>\n",
       "    <tr>\n",
       "      <th>Gender</th>\n",
       "      <td>2484</td>\n",
       "      <td>2</td>\n",
       "      <td>Female</td>\n",
       "      <td>1356</td>\n",
       "    </tr>\n",
       "    <tr>\n",
       "      <th>Marital_status</th>\n",
       "      <td>2512</td>\n",
       "      <td>2</td>\n",
       "      <td>Married</td>\n",
       "      <td>1473</td>\n",
       "    </tr>\n",
       "    <tr>\n",
       "      <th>State_names</th>\n",
       "      <td>2512</td>\n",
       "      <td>50</td>\n",
       "      <td>Illinois</td>\n",
       "      <td>67</td>\n",
       "    </tr>\n",
       "    <tr>\n",
       "      <th>Segment</th>\n",
       "      <td>2512</td>\n",
       "      <td>5</td>\n",
       "      <td>Basic</td>\n",
       "      <td>1136</td>\n",
       "    </tr>\n",
       "    <tr>\n",
       "      <th>Employees_status</th>\n",
       "      <td>2486</td>\n",
       "      <td>4</td>\n",
       "      <td>Employees</td>\n",
       "      <td>946</td>\n",
       "    </tr>\n",
       "    <tr>\n",
       "      <th>Payment_method</th>\n",
       "      <td>2512</td>\n",
       "      <td>3</td>\n",
       "      <td>PayPal</td>\n",
       "      <td>1168</td>\n",
       "    </tr>\n",
       "  </tbody>\n",
       "</table>\n",
       "</div>"
      ],
      "text/plain": [
       "                 count unique        top  freq\n",
       "Transaction_date  2512    810  8/29/2020    12\n",
       "Gender            2484      2     Female  1356\n",
       "Marital_status    2512      2    Married  1473\n",
       "State_names       2512     50   Illinois    67\n",
       "Segment           2512      5      Basic  1136\n",
       "Employees_status  2486      4  Employees   946\n",
       "Payment_method    2512      3     PayPal  1168"
      ]
     },
     "execution_count": 12,
     "metadata": {},
     "output_type": "execute_result"
    }
   ],
   "source": [
    "df.describe(include=object).T"
   ]
  },
  {
   "cell_type": "markdown",
   "id": "01a81ebd-e2e6-4f57-839e-be469364ff62",
   "metadata": {},
   "source": [
    "We can calculate the mean ,mode,median , max value,min value of individual columns we simply use these function."
   ]
  },
  {
   "cell_type": "code",
   "execution_count": 13,
   "id": "94895669-2507-4730-b2f8-74c1732d9086",
   "metadata": {},
   "outputs": [
    {
     "name": "stdout",
     "output_type": "stream",
     "text": [
      "Standard deviation of Age:18.19\n",
      "Manimum value of Age:15.0\n",
      "Maximum value of Age:78.0\n"
     ]
    }
   ],
   "source": [
    "# calculate standard deviation\n",
    "std=df['Age'].std()\n",
    "\n",
    "# calculate  min value\n",
    "minimum=df['Age'].min()\n",
    "\n",
    "# calculate max value\n",
    "maximum=df.Age.max()\n",
    "\n",
    "print(f\"Standard deviation of Age:{std:.2f}\")\n",
    "print(f\"Manimum value of Age:{minimum}\")\n",
    "print(f\"Maximum value of Age:{maximum}\")"
   ]
  },
  {
   "cell_type": "markdown",
   "id": "632e7a36-7148-4db0-b2d9-aa7613098719",
   "metadata": {},
   "source": [
    "In pandas we can display the correlation of different numeric columns for this we can use corr() function"
   ]
  },
  {
   "cell_type": "code",
   "execution_count": null,
   "id": "bba0c4c1-75a1-4159-9011-5f70123826c1",
   "metadata": {},
   "outputs": [],
   "source": [
    "# calculate correation\n",
    "df.corr()"
   ]
  },
  {
   "cell_type": "markdown",
   "id": "19fbd6c7-7d89-4688-8773-31ae98a98686",
   "metadata": {},
   "source": [
    "## 5.2 Basic built in function for data analysis"
   ]
  },
  {
   "cell_type": "markdown",
   "id": "7dbbfa27-6d55-4382-8484-0180366244ec",
   "metadata": {},
   "source": [
    "##### Number of unique values in category column"
   ]
  },
  {
   "cell_type": "code",
   "execution_count": 15,
   "id": "ddd86c4d-a04f-4e3b-bf98-b91c26df55a8",
   "metadata": {},
   "outputs": [
    {
     "data": {
      "text/plain": [
       "50"
      ]
     },
     "execution_count": 15,
     "metadata": {},
     "output_type": "execute_result"
    }
   ],
   "source": [
    "# for display how many unique values are there in State_names columns\n",
    "df['State_names'].nunique()"
   ]
  },
  {
   "cell_type": "markdown",
   "id": "809f0d3c-1c39-45d3-b829-be937dc48680",
   "metadata": {},
   "source": [
    "## counts of unique values"
   ]
  },
  {
   "cell_type": "code",
   "execution_count": null,
   "id": "467cacb5-796b-4f71-aee5-e6e82de80b5a",
   "metadata": {},
   "outputs": [],
   "source": [
    "df['State_names'].value_counts()"
   ]
  },
  {
   "cell_type": "markdown",
   "id": "de4c6d8d-a803-44eb-806e-eb8c32745e84",
   "metadata": {},
   "source": [
    "If we want to show with the percentage of occurrence rather number than we use normalize=True argument in value_counts() function.\n"
   ]
  },
  {
   "cell_type": "code",
   "execution_count": 17,
   "id": "f1b540ed-4e8a-4974-bae5-734dc904eb1a",
   "metadata": {},
   "outputs": [
    {
     "data": {
      "text/plain": [
       "State_names\n",
       "Illinois          0.026672\n",
       "Georgia           0.025478\n",
       "Massachusetts     0.025080\n",
       "Maine             0.024682\n",
       "Kentucky          0.023487\n",
       "Minnesota         0.023487\n",
       "Missouri          0.022691\n",
       "Arizona           0.022293\n",
       "Delaware          0.022293\n",
       "Arkansas          0.021895\n",
       "Nevada            0.021895\n",
       "New York          0.021895\n",
       "California        0.021895\n",
       "New Mexico        0.021895\n",
       "Vermont           0.021497\n",
       "West Virginia     0.021497\n",
       "New Jersey        0.021099\n",
       "Oregon            0.021099\n",
       "Florida           0.021099\n",
       "Connecticut       0.020701\n",
       "Washington        0.020701\n",
       "Pennsylvania      0.020701\n",
       "Colorado          0.020701\n",
       "South Dakota      0.020701\n",
       "Michigan          0.020701\n",
       "Iowa              0.020303\n",
       "Rhode Island      0.020303\n",
       "Louisiana         0.019506\n",
       "Texas             0.019506\n",
       "Montana           0.019108\n",
       "North Carolina    0.018312\n",
       "Virginia          0.018312\n",
       "Hawaii            0.018312\n",
       "Wisconsin         0.017914\n",
       "Idaho             0.017914\n",
       "Maryland          0.017914\n",
       "South Carolina    0.017914\n",
       "Wyoming           0.017516\n",
       "Mississippi       0.017516\n",
       "Oklahoma          0.017516\n",
       "Utah              0.017118\n",
       "New Hampshire     0.017118\n",
       "Indiana           0.017118\n",
       "Ohio              0.017118\n",
       "Alabama           0.016720\n",
       "Alaska            0.016322\n",
       "Nebraska          0.016322\n",
       "North Dakota      0.016322\n",
       "Kansas            0.016322\n",
       "Tennessee         0.015525\n",
       "Name: proportion, dtype: float64"
      ]
     },
     "execution_count": 17,
     "metadata": {},
     "output_type": "execute_result"
    }
   ],
   "source": [
    "# calculate percentage of each category\n",
    "df['State_names'].value_counts(normalize=True)"
   ]
  },
  {
   "cell_type": "code",
   "execution_count": 18,
   "id": "ccdb4c10-dd68-4400-9944-32b8e04fb08c",
   "metadata": {},
   "outputs": [
    {
     "data": {
      "text/plain": [
       "State_names\n",
       "Illinois         67\n",
       "Georgia          64\n",
       "Massachusetts    63\n",
       "Maine            62\n",
       "Kentucky         59\n",
       "Minnesota        59\n",
       "Missouri         57\n",
       "Arizona          56\n",
       "Delaware         56\n",
       "New York         55\n",
       "California       55\n",
       "New Mexico       55\n",
       "Nevada           55\n",
       "Arkansas         55\n",
       "West Virginia    54\n",
       "Vermont          54\n",
       "New Jersey       53\n",
       "Oregon           53\n",
       "Florida          53\n",
       "Connecticut      52\n",
       "Name: count, dtype: int64"
      ]
     },
     "execution_count": 18,
     "metadata": {},
     "output_type": "execute_result"
    }
   ],
   "source": [
    "# ascending values\n",
    "df['State_names'].value_counts().sort_values(ascending=False).head(20)"
   ]
  },
  {
   "cell_type": "code",
   "execution_count": 22,
   "id": "7953cb0b-742d-4c45-8ba3-c0caaf7af6b3",
   "metadata": {},
   "outputs": [
    {
     "data": {
      "text/html": [
       "<div>\n",
       "<style scoped>\n",
       "    .dataframe tbody tr th:only-of-type {\n",
       "        vertical-align: middle;\n",
       "    }\n",
       "\n",
       "    .dataframe tbody tr th {\n",
       "        vertical-align: top;\n",
       "    }\n",
       "\n",
       "    .dataframe thead th {\n",
       "        text-align: right;\n",
       "    }\n",
       "</style>\n",
       "<table border=\"1\" class=\"dataframe\">\n",
       "  <thead>\n",
       "    <tr style=\"text-align: right;\">\n",
       "      <th></th>\n",
       "      <th>Transaction_date</th>\n",
       "      <th>Transaction_ID</th>\n",
       "      <th>Gender</th>\n",
       "      <th>Age</th>\n",
       "      <th>Marital_status</th>\n",
       "      <th>State_names</th>\n",
       "      <th>Segment</th>\n",
       "      <th>Employees_status</th>\n",
       "      <th>Payment_method</th>\n",
       "      <th>Referal</th>\n",
       "      <th>Amount_spent</th>\n",
       "    </tr>\n",
       "  </thead>\n",
       "  <tbody>\n",
       "    <tr>\n",
       "      <th>2468</th>\n",
       "      <td>4/18/2021</td>\n",
       "      <td>153656</td>\n",
       "      <td>Female</td>\n",
       "      <td>73.0</td>\n",
       "      <td>Married</td>\n",
       "      <td>Michigan</td>\n",
       "      <td>Gold</td>\n",
       "      <td>Employees</td>\n",
       "      <td>PayPal</td>\n",
       "      <td>1.0</td>\n",
       "      <td>2.09</td>\n",
       "    </tr>\n",
       "    <tr>\n",
       "      <th>568</th>\n",
       "      <td>7/4/2019</td>\n",
       "      <td>151756</td>\n",
       "      <td>Male</td>\n",
       "      <td>46.0</td>\n",
       "      <td>Single</td>\n",
       "      <td>South Carolina</td>\n",
       "      <td>Gold</td>\n",
       "      <td>workers</td>\n",
       "      <td>PayPal</td>\n",
       "      <td>0.0</td>\n",
       "      <td>2.16</td>\n",
       "    </tr>\n",
       "    <tr>\n",
       "      <th>2401</th>\n",
       "      <td>3/25/2021</td>\n",
       "      <td>153589</td>\n",
       "      <td>Female</td>\n",
       "      <td>60.0</td>\n",
       "      <td>Single</td>\n",
       "      <td>Maryland</td>\n",
       "      <td>Silver</td>\n",
       "      <td>Employees</td>\n",
       "      <td>PayPal</td>\n",
       "      <td>1.0</td>\n",
       "      <td>2.84</td>\n",
       "    </tr>\n",
       "    <tr>\n",
       "      <th>962</th>\n",
       "      <td>11/13/2019</td>\n",
       "      <td>152150</td>\n",
       "      <td>Female</td>\n",
       "      <td>56.0</td>\n",
       "      <td>Married</td>\n",
       "      <td>Nevada</td>\n",
       "      <td>Basic</td>\n",
       "      <td>workers</td>\n",
       "      <td>Other</td>\n",
       "      <td>1.0</td>\n",
       "      <td>5.31</td>\n",
       "    </tr>\n",
       "    <tr>\n",
       "      <th>860</th>\n",
       "      <td>10/10/2019</td>\n",
       "      <td>152048</td>\n",
       "      <td>Male</td>\n",
       "      <td>26.0</td>\n",
       "      <td>Single</td>\n",
       "      <td>Maryland</td>\n",
       "      <td>Silver</td>\n",
       "      <td>Unemployment</td>\n",
       "      <td>PayPal</td>\n",
       "      <td>1.0</td>\n",
       "      <td>5.55</td>\n",
       "    </tr>\n",
       "  </tbody>\n",
       "</table>\n",
       "</div>"
      ],
      "text/plain": [
       "     Transaction_date  Transaction_ID  Gender   Age Marital_status  \\\n",
       "2468        4/18/2021          153656  Female  73.0        Married   \n",
       "568          7/4/2019          151756    Male  46.0         Single   \n",
       "2401        3/25/2021          153589  Female  60.0         Single   \n",
       "962        11/13/2019          152150  Female  56.0        Married   \n",
       "860        10/10/2019          152048    Male  26.0         Single   \n",
       "\n",
       "         State_names Segment Employees_status Payment_method  Referal  \\\n",
       "2468        Michigan    Gold        Employees         PayPal      1.0   \n",
       "568   South Carolina    Gold          workers         PayPal      0.0   \n",
       "2401        Maryland  Silver        Employees         PayPal      1.0   \n",
       "962           Nevada   Basic          workers          Other      1.0   \n",
       "860         Maryland  Silver     Unemployment         PayPal      1.0   \n",
       "\n",
       "      Amount_spent  \n",
       "2468          2.09  \n",
       "568           2.16  \n",
       "2401          2.84  \n",
       "962           5.31  \n",
       "860           5.55  "
      ]
     },
     "execution_count": 22,
     "metadata": {},
     "output_type": "execute_result"
    }
   ],
   "source": [
    "# sort values Amount_spent with ascending order\n",
    "df.sort_values(by=['Amount_spent'],ascending=True).head(5)"
   ]
  },
  {
   "cell_type": "code",
   "execution_count": 28,
   "id": "c85fcf71-2ab8-4813-8f60-381a6738f6ca",
   "metadata": {},
   "outputs": [
    {
     "data": {
      "text/html": [
       "<div>\n",
       "<style scoped>\n",
       "    .dataframe tbody tr th:only-of-type {\n",
       "        vertical-align: middle;\n",
       "    }\n",
       "\n",
       "    .dataframe tbody tr th {\n",
       "        vertical-align: top;\n",
       "    }\n",
       "\n",
       "    .dataframe thead th {\n",
       "        text-align: right;\n",
       "    }\n",
       "</style>\n",
       "<table border=\"1\" class=\"dataframe\">\n",
       "  <thead>\n",
       "    <tr style=\"text-align: right;\">\n",
       "      <th></th>\n",
       "      <th>Transaction_date</th>\n",
       "      <th>Transaction_ID</th>\n",
       "      <th>Gender</th>\n",
       "      <th>Age</th>\n",
       "      <th>Marital_status</th>\n",
       "      <th>State_names</th>\n",
       "      <th>Segment</th>\n",
       "      <th>Employees_status</th>\n",
       "      <th>Payment_method</th>\n",
       "      <th>Referal</th>\n",
       "      <th>Amount_spent</th>\n",
       "    </tr>\n",
       "  </thead>\n",
       "  <tbody>\n",
       "    <tr>\n",
       "      <th>17</th>\n",
       "      <td>1/7/2019</td>\n",
       "      <td>151217</td>\n",
       "      <td>Female</td>\n",
       "      <td>77.0</td>\n",
       "      <td>Married</td>\n",
       "      <td>New Mexico</td>\n",
       "      <td>Platinum</td>\n",
       "      <td>workers</td>\n",
       "      <td>Card</td>\n",
       "      <td>0.0</td>\n",
       "      <td>2999.98</td>\n",
       "    </tr>\n",
       "    <tr>\n",
       "      <th>485</th>\n",
       "      <td>6/7/2019</td>\n",
       "      <td>151673</td>\n",
       "      <td>Male</td>\n",
       "      <td>65.0</td>\n",
       "      <td>Married</td>\n",
       "      <td>Arizona</td>\n",
       "      <td>Gold</td>\n",
       "      <td>self-employed</td>\n",
       "      <td>PayPal</td>\n",
       "      <td>1.0</td>\n",
       "      <td>2998.62</td>\n",
       "    </tr>\n",
       "    <tr>\n",
       "      <th>2279</th>\n",
       "      <td>2/15/2021</td>\n",
       "      <td>153467</td>\n",
       "      <td>Female</td>\n",
       "      <td>78.0</td>\n",
       "      <td>Single</td>\n",
       "      <td>Arizona</td>\n",
       "      <td>Silver</td>\n",
       "      <td>Employees</td>\n",
       "      <td>PayPal</td>\n",
       "      <td>1.0</td>\n",
       "      <td>2997.21</td>\n",
       "    </tr>\n",
       "    <tr>\n",
       "      <th>589</th>\n",
       "      <td>7/13/2019</td>\n",
       "      <td>151777</td>\n",
       "      <td>Male</td>\n",
       "      <td>51.0</td>\n",
       "      <td>Single</td>\n",
       "      <td>North Carolina</td>\n",
       "      <td>Missing</td>\n",
       "      <td>Employees</td>\n",
       "      <td>PayPal</td>\n",
       "      <td>1.0</td>\n",
       "      <td>2997.15</td>\n",
       "    </tr>\n",
       "    <tr>\n",
       "      <th>743</th>\n",
       "      <td>8/30/2019</td>\n",
       "      <td>151931</td>\n",
       "      <td>Male</td>\n",
       "      <td>44.0</td>\n",
       "      <td>Single</td>\n",
       "      <td>Illinois</td>\n",
       "      <td>Basic</td>\n",
       "      <td>Employees</td>\n",
       "      <td>Card</td>\n",
       "      <td>1.0</td>\n",
       "      <td>2996.82</td>\n",
       "    </tr>\n",
       "  </tbody>\n",
       "</table>\n",
       "</div>"
      ],
      "text/plain": [
       "     Transaction_date  Transaction_ID  Gender   Age Marital_status  \\\n",
       "17           1/7/2019          151217  Female  77.0        Married   \n",
       "485          6/7/2019          151673    Male  65.0        Married   \n",
       "2279        2/15/2021          153467  Female  78.0         Single   \n",
       "589         7/13/2019          151777    Male  51.0         Single   \n",
       "743         8/30/2019          151931    Male  44.0         Single   \n",
       "\n",
       "         State_names   Segment Employees_status Payment_method  Referal  \\\n",
       "17        New Mexico  Platinum          workers           Card      0.0   \n",
       "485          Arizona      Gold    self-employed         PayPal      1.0   \n",
       "2279         Arizona    Silver        Employees         PayPal      1.0   \n",
       "589   North Carolina   Missing        Employees         PayPal      1.0   \n",
       "743         Illinois     Basic        Employees           Card      1.0   \n",
       "\n",
       "      Amount_spent  \n",
       "17         2999.98  \n",
       "485        2998.62  \n",
       "2279       2997.21  \n",
       "589        2997.15  \n",
       "743        2996.82  "
      ]
     },
     "execution_count": 28,
     "metadata": {},
     "output_type": "execute_result"
    }
   ],
   "source": [
    "# sort values Amount_spent with descending order\n",
    "df.sort_values(by=['Amount_spent'],ascending=False).head(5)"
   ]
  },
  {
   "cell_type": "code",
   "execution_count": 24,
   "id": "f3413383-418f-4d77-b7d7-8e1f9b60cdb5",
   "metadata": {},
   "outputs": [
    {
     "data": {
      "text/html": [
       "<div>\n",
       "<style scoped>\n",
       "    .dataframe tbody tr th:only-of-type {\n",
       "        vertical-align: middle;\n",
       "    }\n",
       "\n",
       "    .dataframe tbody tr th {\n",
       "        vertical-align: top;\n",
       "    }\n",
       "\n",
       "    .dataframe thead th {\n",
       "        text-align: right;\n",
       "    }\n",
       "</style>\n",
       "<table border=\"1\" class=\"dataframe\">\n",
       "  <thead>\n",
       "    <tr style=\"text-align: right;\">\n",
       "      <th></th>\n",
       "      <th>Transaction_date</th>\n",
       "      <th>Transaction_ID</th>\n",
       "      <th>Gender</th>\n",
       "      <th>Age</th>\n",
       "      <th>Marital_status</th>\n",
       "      <th>State_names</th>\n",
       "      <th>Segment</th>\n",
       "      <th>Employees_status</th>\n",
       "      <th>Payment_method</th>\n",
       "      <th>Referal</th>\n",
       "      <th>Amount_spent</th>\n",
       "    </tr>\n",
       "  </thead>\n",
       "  <tbody>\n",
       "    <tr>\n",
       "      <th>17</th>\n",
       "      <td>1/7/2019</td>\n",
       "      <td>151217</td>\n",
       "      <td>Female</td>\n",
       "      <td>77.0</td>\n",
       "      <td>Married</td>\n",
       "      <td>New Mexico</td>\n",
       "      <td>Platinum</td>\n",
       "      <td>workers</td>\n",
       "      <td>Card</td>\n",
       "      <td>0.0</td>\n",
       "      <td>2999.98</td>\n",
       "    </tr>\n",
       "    <tr>\n",
       "      <th>485</th>\n",
       "      <td>6/7/2019</td>\n",
       "      <td>151673</td>\n",
       "      <td>Male</td>\n",
       "      <td>65.0</td>\n",
       "      <td>Married</td>\n",
       "      <td>Arizona</td>\n",
       "      <td>Gold</td>\n",
       "      <td>self-employed</td>\n",
       "      <td>PayPal</td>\n",
       "      <td>1.0</td>\n",
       "      <td>2998.62</td>\n",
       "    </tr>\n",
       "    <tr>\n",
       "      <th>2279</th>\n",
       "      <td>2/15/2021</td>\n",
       "      <td>153467</td>\n",
       "      <td>Female</td>\n",
       "      <td>78.0</td>\n",
       "      <td>Single</td>\n",
       "      <td>Arizona</td>\n",
       "      <td>Silver</td>\n",
       "      <td>Employees</td>\n",
       "      <td>PayPal</td>\n",
       "      <td>1.0</td>\n",
       "      <td>2997.21</td>\n",
       "    </tr>\n",
       "  </tbody>\n",
       "</table>\n",
       "</div>"
      ],
      "text/plain": [
       "     Transaction_date  Transaction_ID  Gender   Age Marital_status  \\\n",
       "17           1/7/2019          151217  Female  77.0        Married   \n",
       "485          6/7/2019          151673    Male  65.0        Married   \n",
       "2279        2/15/2021          153467  Female  78.0         Single   \n",
       "\n",
       "     State_names   Segment Employees_status Payment_method  Referal  \\\n",
       "17    New Mexico  Platinum          workers           Card      0.0   \n",
       "485      Arizona      Gold    self-employed         PayPal      1.0   \n",
       "2279     Arizona    Silver        Employees         PayPal      1.0   \n",
       "\n",
       "      Amount_spent  \n",
       "17         2999.98  \n",
       "485        2998.62  \n",
       "2279       2997.21  "
      ]
     },
     "execution_count": 24,
     "metadata": {},
     "output_type": "execute_result"
    }
   ],
   "source": [
    "# nlargest\n",
    "df.nlargest(4,'Amount_spent').head(3)"
   ]
  },
  {
   "cell_type": "code",
   "execution_count": 27,
   "id": "1d280436-5b36-4915-a442-705e8d23b5c2",
   "metadata": {},
   "outputs": [
    {
     "data": {
      "text/html": [
       "<div>\n",
       "<style scoped>\n",
       "    .dataframe tbody tr th:only-of-type {\n",
       "        vertical-align: middle;\n",
       "    }\n",
       "\n",
       "    .dataframe tbody tr th {\n",
       "        vertical-align: top;\n",
       "    }\n",
       "\n",
       "    .dataframe thead th {\n",
       "        text-align: right;\n",
       "    }\n",
       "</style>\n",
       "<table border=\"1\" class=\"dataframe\">\n",
       "  <thead>\n",
       "    <tr style=\"text-align: right;\">\n",
       "      <th></th>\n",
       "      <th>Transaction_date</th>\n",
       "      <th>Transaction_ID</th>\n",
       "      <th>Gender</th>\n",
       "      <th>Age</th>\n",
       "      <th>Marital_status</th>\n",
       "      <th>State_names</th>\n",
       "      <th>Segment</th>\n",
       "      <th>Employees_status</th>\n",
       "      <th>Payment_method</th>\n",
       "      <th>Referal</th>\n",
       "      <th>Amount_spent</th>\n",
       "    </tr>\n",
       "  </thead>\n",
       "  <tbody>\n",
       "    <tr>\n",
       "      <th>2468</th>\n",
       "      <td>4/18/2021</td>\n",
       "      <td>153656</td>\n",
       "      <td>Female</td>\n",
       "      <td>73.0</td>\n",
       "      <td>Married</td>\n",
       "      <td>Michigan</td>\n",
       "      <td>Gold</td>\n",
       "      <td>Employees</td>\n",
       "      <td>PayPal</td>\n",
       "      <td>1.0</td>\n",
       "      <td>2.09</td>\n",
       "    </tr>\n",
       "    <tr>\n",
       "      <th>568</th>\n",
       "      <td>7/4/2019</td>\n",
       "      <td>151756</td>\n",
       "      <td>Male</td>\n",
       "      <td>46.0</td>\n",
       "      <td>Single</td>\n",
       "      <td>South Carolina</td>\n",
       "      <td>Gold</td>\n",
       "      <td>workers</td>\n",
       "      <td>PayPal</td>\n",
       "      <td>0.0</td>\n",
       "      <td>2.16</td>\n",
       "    </tr>\n",
       "    <tr>\n",
       "      <th>2401</th>\n",
       "      <td>3/25/2021</td>\n",
       "      <td>153589</td>\n",
       "      <td>Female</td>\n",
       "      <td>60.0</td>\n",
       "      <td>Single</td>\n",
       "      <td>Maryland</td>\n",
       "      <td>Silver</td>\n",
       "      <td>Employees</td>\n",
       "      <td>PayPal</td>\n",
       "      <td>1.0</td>\n",
       "      <td>2.84</td>\n",
       "    </tr>\n",
       "    <tr>\n",
       "      <th>962</th>\n",
       "      <td>11/13/2019</td>\n",
       "      <td>152150</td>\n",
       "      <td>Female</td>\n",
       "      <td>56.0</td>\n",
       "      <td>Married</td>\n",
       "      <td>Nevada</td>\n",
       "      <td>Basic</td>\n",
       "      <td>workers</td>\n",
       "      <td>Other</td>\n",
       "      <td>1.0</td>\n",
       "      <td>5.31</td>\n",
       "    </tr>\n",
       "  </tbody>\n",
       "</table>\n",
       "</div>"
      ],
      "text/plain": [
       "     Transaction_date  Transaction_ID  Gender   Age Marital_status  \\\n",
       "2468        4/18/2021          153656  Female  73.0        Married   \n",
       "568          7/4/2019          151756    Male  46.0         Single   \n",
       "2401        3/25/2021          153589  Female  60.0         Single   \n",
       "962        11/13/2019          152150  Female  56.0        Married   \n",
       "\n",
       "         State_names Segment Employees_status Payment_method  Referal  \\\n",
       "2468        Michigan    Gold        Employees         PayPal      1.0   \n",
       "568   South Carolina    Gold          workers         PayPal      0.0   \n",
       "2401        Maryland  Silver        Employees         PayPal      1.0   \n",
       "962           Nevada   Basic          workers          Other      1.0   \n",
       "\n",
       "      Amount_spent  \n",
       "2468          2.09  \n",
       "568           2.16  \n",
       "2401          2.84  \n",
       "962           5.31  "
      ]
     },
     "execution_count": 27,
     "metadata": {},
     "output_type": "execute_result"
    }
   ],
   "source": [
    "# nsmallest\n",
    "df.nsmallest(4,'Amount_spent').head()"
   ]
  },
  {
   "cell_type": "markdown",
   "id": "0ef301c0-0ea6-4c55-a47c-84b9416bc0dc",
   "metadata": {},
   "source": [
    "## Conditional queries on Data"
   ]
  },
  {
   "cell_type": "code",
   "execution_count": 29,
   "id": "0f22d626-c21a-43d9-bc96-8a605c417719",
   "metadata": {},
   "outputs": [
    {
     "data": {
      "text/html": [
       "<div>\n",
       "<style scoped>\n",
       "    .dataframe tbody tr th:only-of-type {\n",
       "        vertical-align: middle;\n",
       "    }\n",
       "\n",
       "    .dataframe tbody tr th {\n",
       "        vertical-align: top;\n",
       "    }\n",
       "\n",
       "    .dataframe thead th {\n",
       "        text-align: right;\n",
       "    }\n",
       "</style>\n",
       "<table border=\"1\" class=\"dataframe\">\n",
       "  <thead>\n",
       "    <tr style=\"text-align: right;\">\n",
       "      <th></th>\n",
       "      <th>Transaction_date</th>\n",
       "      <th>Transaction_ID</th>\n",
       "      <th>Gender</th>\n",
       "      <th>Age</th>\n",
       "      <th>Marital_status</th>\n",
       "      <th>State_names</th>\n",
       "      <th>Segment</th>\n",
       "      <th>Employees_status</th>\n",
       "      <th>Payment_method</th>\n",
       "      <th>Referal</th>\n",
       "      <th>Amount_spent</th>\n",
       "    </tr>\n",
       "  </thead>\n",
       "  <tbody>\n",
       "    <tr>\n",
       "      <th>2</th>\n",
       "      <td>1/1/2019</td>\n",
       "      <td>151202</td>\n",
       "      <td>Male</td>\n",
       "      <td>63.0</td>\n",
       "      <td>Married</td>\n",
       "      <td>New Mexico</td>\n",
       "      <td>Basic</td>\n",
       "      <td>workers</td>\n",
       "      <td>PayPal</td>\n",
       "      <td>1.0</td>\n",
       "      <td>1572.60</td>\n",
       "    </tr>\n",
       "    <tr>\n",
       "      <th>5</th>\n",
       "      <td>1/3/2019</td>\n",
       "      <td>151205</td>\n",
       "      <td>Male</td>\n",
       "      <td>71.0</td>\n",
       "      <td>Single</td>\n",
       "      <td>Hawaii</td>\n",
       "      <td>Basic</td>\n",
       "      <td>Employees</td>\n",
       "      <td>PayPal</td>\n",
       "      <td>1.0</td>\n",
       "      <td>2922.66</td>\n",
       "    </tr>\n",
       "    <tr>\n",
       "      <th>6</th>\n",
       "      <td>1/3/2019</td>\n",
       "      <td>151206</td>\n",
       "      <td>Female</td>\n",
       "      <td>34.0</td>\n",
       "      <td>Married</td>\n",
       "      <td>New Mexico</td>\n",
       "      <td>Platinum</td>\n",
       "      <td>Employees</td>\n",
       "      <td>PayPal</td>\n",
       "      <td>1.0</td>\n",
       "      <td>1481.42</td>\n",
       "    </tr>\n",
       "    <tr>\n",
       "      <th>7</th>\n",
       "      <td>1/3/2019</td>\n",
       "      <td>151207</td>\n",
       "      <td>Male</td>\n",
       "      <td>37.0</td>\n",
       "      <td>Married</td>\n",
       "      <td>Connecticut</td>\n",
       "      <td>Basic</td>\n",
       "      <td>workers</td>\n",
       "      <td>PayPal</td>\n",
       "      <td>1.0</td>\n",
       "      <td>1149.55</td>\n",
       "    </tr>\n",
       "    <tr>\n",
       "      <th>10</th>\n",
       "      <td>1/4/2019</td>\n",
       "      <td>151210</td>\n",
       "      <td>Female</td>\n",
       "      <td>56.0</td>\n",
       "      <td>Married</td>\n",
       "      <td>California</td>\n",
       "      <td>Basic</td>\n",
       "      <td>Employees</td>\n",
       "      <td>PayPal</td>\n",
       "      <td>0.0</td>\n",
       "      <td>1712.82</td>\n",
       "    </tr>\n",
       "  </tbody>\n",
       "</table>\n",
       "</div>"
      ],
      "text/plain": [
       "   Transaction_date  Transaction_ID  Gender   Age Marital_status  State_names  \\\n",
       "2          1/1/2019          151202    Male  63.0        Married   New Mexico   \n",
       "5          1/3/2019          151205    Male  71.0         Single       Hawaii   \n",
       "6          1/3/2019          151206  Female  34.0        Married   New Mexico   \n",
       "7          1/3/2019          151207    Male  37.0        Married  Connecticut   \n",
       "10         1/4/2019          151210  Female  56.0        Married   California   \n",
       "\n",
       "     Segment Employees_status Payment_method  Referal  Amount_spent  \n",
       "2      Basic          workers         PayPal      1.0       1572.60  \n",
       "5      Basic        Employees         PayPal      1.0       2922.66  \n",
       "6   Platinum        Employees         PayPal      1.0       1481.42  \n",
       "7      Basic          workers         PayPal      1.0       1149.55  \n",
       "10     Basic        Employees         PayPal      0.0       1712.82  "
      ]
     },
     "execution_count": 29,
     "metadata": {},
     "output_type": "execute_result"
    }
   ],
   "source": [
    "# filtering Only show Paypal users\n",
    "condition=df['Payment_method']=='PayPal'\n",
    "df[condition].head()"
   ]
  },
  {
   "cell_type": "code",
   "execution_count": 30,
   "id": "677bb3f8-e3a5-46e3-b749-c56bd27ccb46",
   "metadata": {},
   "outputs": [
    {
     "data": {
      "text/html": [
       "<div>\n",
       "<style scoped>\n",
       "    .dataframe tbody tr th:only-of-type {\n",
       "        vertical-align: middle;\n",
       "    }\n",
       "\n",
       "    .dataframe tbody tr th {\n",
       "        vertical-align: top;\n",
       "    }\n",
       "\n",
       "    .dataframe thead th {\n",
       "        text-align: right;\n",
       "    }\n",
       "</style>\n",
       "<table border=\"1\" class=\"dataframe\">\n",
       "  <thead>\n",
       "    <tr style=\"text-align: right;\">\n",
       "      <th></th>\n",
       "      <th>Transaction_date</th>\n",
       "      <th>Transaction_ID</th>\n",
       "      <th>Gender</th>\n",
       "      <th>Age</th>\n",
       "      <th>Marital_status</th>\n",
       "      <th>State_names</th>\n",
       "      <th>Segment</th>\n",
       "      <th>Employees_status</th>\n",
       "      <th>Payment_method</th>\n",
       "      <th>Referal</th>\n",
       "      <th>Amount_spent</th>\n",
       "    </tr>\n",
       "  </thead>\n",
       "  <tbody>\n",
       "  </tbody>\n",
       "</table>\n",
       "</div>"
      ],
      "text/plain": [
       "Empty DataFrame\n",
       "Columns: [Transaction_date, Transaction_ID, Gender, Age, Marital_status, State_names, Segment, Employees_status, Payment_method, Referal, Amount_spent]\n",
       "Index: []"
      ]
     },
     "execution_count": 30,
     "metadata": {},
     "output_type": "execute_result"
    }
   ],
   "source": [
    "# filtering Only show Paypal users\n",
    "condition=df['Age']=='PayPal'\n",
    "df[condition].head()"
   ]
  },
  {
   "cell_type": "markdown",
   "id": "99324b8d-cdce-49ae-bad4-0393d01b87a9",
   "metadata": {},
   "source": [
    "We can apply multiple conditional queries like before. Foe example,if we want to display all maried female people who lived in New York then use the following"
   ]
  },
  {
   "cell_type": "code",
   "execution_count": 31,
   "id": "4361c2cf-456a-4208-af83-2c8c379eec19",
   "metadata": {},
   "outputs": [
    {
     "data": {
      "text/html": [
       "<div>\n",
       "<style scoped>\n",
       "    .dataframe tbody tr th:only-of-type {\n",
       "        vertical-align: middle;\n",
       "    }\n",
       "\n",
       "    .dataframe tbody tr th {\n",
       "        vertical-align: top;\n",
       "    }\n",
       "\n",
       "    .dataframe thead th {\n",
       "        text-align: right;\n",
       "    }\n",
       "</style>\n",
       "<table border=\"1\" class=\"dataframe\">\n",
       "  <thead>\n",
       "    <tr style=\"text-align: right;\">\n",
       "      <th></th>\n",
       "      <th>Transaction_date</th>\n",
       "      <th>Transaction_ID</th>\n",
       "      <th>Gender</th>\n",
       "      <th>Age</th>\n",
       "      <th>Marital_status</th>\n",
       "      <th>State_names</th>\n",
       "      <th>Segment</th>\n",
       "      <th>Employees_status</th>\n",
       "      <th>Payment_method</th>\n",
       "      <th>Referal</th>\n",
       "      <th>Amount_spent</th>\n",
       "    </tr>\n",
       "  </thead>\n",
       "  <tbody>\n",
       "    <tr>\n",
       "      <th>164</th>\n",
       "      <td>3/1/2019</td>\n",
       "      <td>151352</td>\n",
       "      <td>Female</td>\n",
       "      <td>64.0</td>\n",
       "      <td>Married</td>\n",
       "      <td>New York</td>\n",
       "      <td>Basic</td>\n",
       "      <td>Employees</td>\n",
       "      <td>PayPal</td>\n",
       "      <td>1.0</td>\n",
       "      <td>1581.77</td>\n",
       "    </tr>\n",
       "    <tr>\n",
       "      <th>180</th>\n",
       "      <td>3/7/2019</td>\n",
       "      <td>151368</td>\n",
       "      <td>Female</td>\n",
       "      <td>20.0</td>\n",
       "      <td>Married</td>\n",
       "      <td>New York</td>\n",
       "      <td>Basic</td>\n",
       "      <td>workers</td>\n",
       "      <td>PayPal</td>\n",
       "      <td>NaN</td>\n",
       "      <td>2694.20</td>\n",
       "    </tr>\n",
       "    <tr>\n",
       "      <th>254</th>\n",
       "      <td>3/31/2019</td>\n",
       "      <td>151442</td>\n",
       "      <td>Female</td>\n",
       "      <td>78.0</td>\n",
       "      <td>Married</td>\n",
       "      <td>New York</td>\n",
       "      <td>Missing</td>\n",
       "      <td>Employees</td>\n",
       "      <td>PayPal</td>\n",
       "      <td>NaN</td>\n",
       "      <td>2959.54</td>\n",
       "    </tr>\n",
       "    <tr>\n",
       "      <th>282</th>\n",
       "      <td>4/8/2019</td>\n",
       "      <td>151470</td>\n",
       "      <td>Female</td>\n",
       "      <td>32.0</td>\n",
       "      <td>Married</td>\n",
       "      <td>New York</td>\n",
       "      <td>Gold</td>\n",
       "      <td>Unemployment</td>\n",
       "      <td>Other</td>\n",
       "      <td>NaN</td>\n",
       "      <td>522.24</td>\n",
       "    </tr>\n",
       "    <tr>\n",
       "      <th>827</th>\n",
       "      <td>9/30/2019</td>\n",
       "      <td>152015</td>\n",
       "      <td>Female</td>\n",
       "      <td>77.0</td>\n",
       "      <td>Married</td>\n",
       "      <td>New York</td>\n",
       "      <td>Platinum</td>\n",
       "      <td>workers</td>\n",
       "      <td>Card</td>\n",
       "      <td>1.0</td>\n",
       "      <td>NaN</td>\n",
       "    </tr>\n",
       "  </tbody>\n",
       "</table>\n",
       "</div>"
      ],
      "text/plain": [
       "    Transaction_date  Transaction_ID  Gender   Age Marital_status State_names  \\\n",
       "164         3/1/2019          151352  Female  64.0        Married    New York   \n",
       "180         3/7/2019          151368  Female  20.0        Married    New York   \n",
       "254        3/31/2019          151442  Female  78.0        Married    New York   \n",
       "282         4/8/2019          151470  Female  32.0        Married    New York   \n",
       "827        9/30/2019          152015  Female  77.0        Married    New York   \n",
       "\n",
       "      Segment Employees_status Payment_method  Referal  Amount_spent  \n",
       "164     Basic        Employees         PayPal      1.0       1581.77  \n",
       "180     Basic          workers         PayPal      NaN       2694.20  \n",
       "254   Missing        Employees         PayPal      NaN       2959.54  \n",
       "282      Gold     Unemployment          Other      NaN        522.24  \n",
       "827  Platinum          workers           Card      1.0           NaN  "
      ]
     },
     "execution_count": 31,
     "metadata": {},
     "output_type": "execute_result"
    }
   ],
   "source": [
    "# first create 3 condition\n",
    "female_person=df['Gender']=='Female'\n",
    "married_person=df['Marital_status']=='Married'\n",
    "loc_newyork=df['State_names']=='New York'\n",
    "\n",
    "# we passing condition on our dataframe\n",
    "df[female_person & married_person & loc_newyork].head()"
   ]
  },
  {
   "cell_type": "markdown",
   "id": "1a82762d-3718-4e6c-b89c-d9d1713e2bf4",
   "metadata": {},
   "source": [
    "## Sumarizing or grouping data"
   ]
  },
  {
   "cell_type": "markdown",
   "id": "352e4035-4b52-4a89-a144-2e7e764a0498",
   "metadata": {},
   "source": [
    "Groupby\n",
    "\n",
    "\n",
    "\n",
    "Grouping by one column: For example, If we want to find maximum values of Age and Amount_spent by Gender then we can use this:\n"
   ]
  },
  {
   "cell_type": "code",
   "execution_count": 32,
   "id": "2bcceba8-42e1-4d4a-8a41-6a3f3d9d9f7d",
   "metadata": {},
   "outputs": [
    {
     "data": {
      "text/html": [
       "<div>\n",
       "<style scoped>\n",
       "    .dataframe tbody tr th:only-of-type {\n",
       "        vertical-align: middle;\n",
       "    }\n",
       "\n",
       "    .dataframe tbody tr th {\n",
       "        vertical-align: top;\n",
       "    }\n",
       "\n",
       "    .dataframe thead th {\n",
       "        text-align: right;\n",
       "    }\n",
       "</style>\n",
       "<table border=\"1\" class=\"dataframe\">\n",
       "  <thead>\n",
       "    <tr style=\"text-align: right;\">\n",
       "      <th></th>\n",
       "      <th>Age</th>\n",
       "      <th>Amount_spent</th>\n",
       "    </tr>\n",
       "    <tr>\n",
       "      <th>Gender</th>\n",
       "      <th></th>\n",
       "      <th></th>\n",
       "    </tr>\n",
       "  </thead>\n",
       "  <tbody>\n",
       "    <tr>\n",
       "      <th>Female</th>\n",
       "      <td>78.0</td>\n",
       "      <td>2999.98</td>\n",
       "    </tr>\n",
       "    <tr>\n",
       "      <th>Male</th>\n",
       "      <td>78.0</td>\n",
       "      <td>2998.62</td>\n",
       "    </tr>\n",
       "  </tbody>\n",
       "</table>\n",
       "</div>"
      ],
      "text/plain": [
       "         Age  Amount_spent\n",
       "Gender                    \n",
       "Female  78.0       2999.98\n",
       "Male    78.0       2998.62"
      ]
     },
     "execution_count": 32,
     "metadata": {},
     "output_type": "execute_result"
    }
   ],
   "source": [
    "df[['Age','Amount_spent']].groupby(df['Gender']).max()"
   ]
  },
  {
   "cell_type": "markdown",
   "id": "2d551c1d-399b-4891-b01c-80f49b7529c4",
   "metadata": {},
   "source": [
    "To find mean,count,and max values of Age and amount_spent by Gender then we cann use agg() function with groupby()."
   ]
  },
  {
   "cell_type": "code",
   "execution_count": 36,
   "id": "62d335c9-4b0a-48ad-937f-ffe4a2a20515",
   "metadata": {},
   "outputs": [
    {
     "data": {
      "text/html": [
       "<div>\n",
       "<style scoped>\n",
       "    .dataframe tbody tr th:only-of-type {\n",
       "        vertical-align: middle;\n",
       "    }\n",
       "\n",
       "    .dataframe tbody tr th {\n",
       "        vertical-align: top;\n",
       "    }\n",
       "\n",
       "    .dataframe thead tr th {\n",
       "        text-align: left;\n",
       "    }\n",
       "\n",
       "    .dataframe thead tr:last-of-type th {\n",
       "        text-align: right;\n",
       "    }\n",
       "</style>\n",
       "<table border=\"1\" class=\"dataframe\">\n",
       "  <thead>\n",
       "    <tr>\n",
       "      <th></th>\n",
       "      <th colspan=\"3\" halign=\"left\">Age</th>\n",
       "      <th colspan=\"3\" halign=\"left\">Amount_spent</th>\n",
       "    </tr>\n",
       "    <tr>\n",
       "      <th></th>\n",
       "      <th>count</th>\n",
       "      <th>mean</th>\n",
       "      <th>max</th>\n",
       "      <th>count</th>\n",
       "      <th>mean</th>\n",
       "      <th>max</th>\n",
       "    </tr>\n",
       "    <tr>\n",
       "      <th>Gender</th>\n",
       "      <th></th>\n",
       "      <th></th>\n",
       "      <th></th>\n",
       "      <th></th>\n",
       "      <th></th>\n",
       "      <th></th>\n",
       "    </tr>\n",
       "  </thead>\n",
       "  <tbody>\n",
       "    <tr>\n",
       "      <th>Female</th>\n",
       "      <td>1326</td>\n",
       "      <td>46.864253</td>\n",
       "      <td>78.0</td>\n",
       "      <td>1217</td>\n",
       "      <td>1429.031627</td>\n",
       "      <td>2999.98</td>\n",
       "    </tr>\n",
       "    <tr>\n",
       "      <th>Male</th>\n",
       "      <td>1116</td>\n",
       "      <td>46.475806</td>\n",
       "      <td>78.0</td>\n",
       "      <td>1027</td>\n",
       "      <td>1407.716397</td>\n",
       "      <td>2998.62</td>\n",
       "    </tr>\n",
       "  </tbody>\n",
       "</table>\n",
       "</div>"
      ],
      "text/plain": [
       "         Age                  Amount_spent                      \n",
       "       count       mean   max        count         mean      max\n",
       "Gender                                                          \n",
       "Female  1326  46.864253  78.0         1217  1429.031627  2999.98\n",
       "Male    1116  46.475806  78.0         1027  1407.716397  2998.62"
      ]
     },
     "execution_count": 36,
     "metadata": {},
     "output_type": "execute_result"
    }
   ],
   "source": [
    "# group by one column\n",
    "state_gender_res=df[['Age','Gender','Amount_spent']].groupby(['Gender']).agg(['count','mean','max'])\n",
    "state_gender_res\n"
   ]
  },
  {
   "cell_type": "markdown",
   "id": "67036869-1118-408d-828c-872aee9b5bf0",
   "metadata": {},
   "source": [
    "Grouping by multiple columns : To find total count, max and min values of Amount_spent ny State_names,Gender and Payment_method then we can pass these columns names under groupby() function and add.agg() with count ,mean, max argument."
   ]
  },
  {
   "cell_type": "code",
   "execution_count": 43,
   "id": "a93bbd99-4a8f-4f0f-9a90-c35033c2a328",
   "metadata": {},
   "outputs": [
    {
     "data": {
      "text/html": [
       "<div>\n",
       "<style scoped>\n",
       "    .dataframe tbody tr th:only-of-type {\n",
       "        vertical-align: middle;\n",
       "    }\n",
       "\n",
       "    .dataframe tbody tr th {\n",
       "        vertical-align: top;\n",
       "    }\n",
       "\n",
       "    .dataframe thead tr th {\n",
       "        text-align: left;\n",
       "    }\n",
       "\n",
       "    .dataframe thead tr:last-of-type th {\n",
       "        text-align: right;\n",
       "    }\n",
       "</style>\n",
       "<table border=\"1\" class=\"dataframe\">\n",
       "  <thead>\n",
       "    <tr>\n",
       "      <th></th>\n",
       "      <th></th>\n",
       "      <th></th>\n",
       "      <th colspan=\"3\" halign=\"left\">Amount_spent</th>\n",
       "    </tr>\n",
       "    <tr>\n",
       "      <th></th>\n",
       "      <th></th>\n",
       "      <th></th>\n",
       "      <th>count</th>\n",
       "      <th>min</th>\n",
       "      <th>max</th>\n",
       "    </tr>\n",
       "    <tr>\n",
       "      <th>State_names</th>\n",
       "      <th>Gender</th>\n",
       "      <th>Payment_method</th>\n",
       "      <th></th>\n",
       "      <th></th>\n",
       "      <th></th>\n",
       "    </tr>\n",
       "  </thead>\n",
       "  <tbody>\n",
       "    <tr>\n",
       "      <th rowspan=\"6\" valign=\"top\">Alabama</th>\n",
       "      <th rowspan=\"3\" valign=\"top\">Female</th>\n",
       "      <th>Card</th>\n",
       "      <td>6</td>\n",
       "      <td>413.11</td>\n",
       "      <td>2749.37</td>\n",
       "    </tr>\n",
       "    <tr>\n",
       "      <th>Other</th>\n",
       "      <td>5</td>\n",
       "      <td>851.25</td>\n",
       "      <td>2789.52</td>\n",
       "    </tr>\n",
       "    <tr>\n",
       "      <th>PayPal</th>\n",
       "      <td>5</td>\n",
       "      <td>77.90</td>\n",
       "      <td>2520.85</td>\n",
       "    </tr>\n",
       "    <tr>\n",
       "      <th rowspan=\"3\" valign=\"top\">Male</th>\n",
       "      <th>Card</th>\n",
       "      <td>6</td>\n",
       "      <td>221.17</td>\n",
       "      <td>2735.65</td>\n",
       "    </tr>\n",
       "    <tr>\n",
       "      <th>Other</th>\n",
       "      <td>3</td>\n",
       "      <td>459.47</td>\n",
       "      <td>1691.62</td>\n",
       "    </tr>\n",
       "    <tr>\n",
       "      <th>PayPal</th>\n",
       "      <td>10</td>\n",
       "      <td>87.88</td>\n",
       "      <td>2876.36</td>\n",
       "    </tr>\n",
       "    <tr>\n",
       "      <th rowspan=\"6\" valign=\"top\">Alaska</th>\n",
       "      <th rowspan=\"3\" valign=\"top\">Female</th>\n",
       "      <th>Card</th>\n",
       "      <td>6</td>\n",
       "      <td>141.50</td>\n",
       "      <td>1988.38</td>\n",
       "    </tr>\n",
       "    <tr>\n",
       "      <th>Other</th>\n",
       "      <td>7</td>\n",
       "      <td>489.16</td>\n",
       "      <td>2970.00</td>\n",
       "    </tr>\n",
       "    <tr>\n",
       "      <th>PayPal</th>\n",
       "      <td>8</td>\n",
       "      <td>462.96</td>\n",
       "      <td>2615.89</td>\n",
       "    </tr>\n",
       "    <tr>\n",
       "      <th rowspan=\"3\" valign=\"top\">Male</th>\n",
       "      <th>Card</th>\n",
       "      <td>1</td>\n",
       "      <td>2497.31</td>\n",
       "      <td>2497.31</td>\n",
       "    </tr>\n",
       "    <tr>\n",
       "      <th>Other</th>\n",
       "      <td>8</td>\n",
       "      <td>588.88</td>\n",
       "      <td>2977.82</td>\n",
       "    </tr>\n",
       "    <tr>\n",
       "      <th>PayPal</th>\n",
       "      <td>8</td>\n",
       "      <td>91.32</td>\n",
       "      <td>1834.95</td>\n",
       "    </tr>\n",
       "  </tbody>\n",
       "</table>\n",
       "</div>"
      ],
      "text/plain": [
       "                                  Amount_spent                  \n",
       "                                         count      min      max\n",
       "State_names Gender Payment_method                               \n",
       "Alabama     Female Card                      6   413.11  2749.37\n",
       "                   Other                     5   851.25  2789.52\n",
       "                   PayPal                    5    77.90  2520.85\n",
       "            Male   Card                      6   221.17  2735.65\n",
       "                   Other                     3   459.47  1691.62\n",
       "                   PayPal                   10    87.88  2876.36\n",
       "Alaska      Female Card                      6   141.50  1988.38\n",
       "                   Other                     7   489.16  2970.00\n",
       "                   PayPal                    8   462.96  2615.89\n",
       "            Male   Card                      1  2497.31  2497.31\n",
       "                   Other                     8   588.88  2977.82\n",
       "                   PayPal                    8    91.32  1834.95"
      ]
     },
     "execution_count": 43,
     "metadata": {},
     "output_type": "execute_result"
    }
   ],
   "source": [
    "# group by multiple columns\n",
    "state_gender_res=df[['State_names','Gender','Payment_method','Amount_spent']].groupby(['State_names','Gender','Payment_method']).agg(['count','min','max'])\n",
    "state_gender_res.head(12)"
   ]
  },
  {
   "cell_type": "markdown",
   "id": "4549337b-1cd2-42b4-9d57-a80d6bb95f35",
   "metadata": {},
   "source": [
    "## Cross Tabulation"
   ]
  },
  {
   "cell_type": "markdown",
   "id": "82c12e51-af76-4a04-92b6-bd64436fa32d",
   "metadata": {},
   "source": [
    "For creating a simple crosstab between Maritatal_status and Payment_method columns we just use crosstab() with both columns names\n"
   ]
  },
  {
   "cell_type": "code",
   "execution_count": 44,
   "id": "13b50c6f-feb4-43e7-812e-a0b9c6862d4c",
   "metadata": {},
   "outputs": [
    {
     "data": {
      "text/html": [
       "<div>\n",
       "<style scoped>\n",
       "    .dataframe tbody tr th:only-of-type {\n",
       "        vertical-align: middle;\n",
       "    }\n",
       "\n",
       "    .dataframe tbody tr th {\n",
       "        vertical-align: top;\n",
       "    }\n",
       "\n",
       "    .dataframe thead th {\n",
       "        text-align: right;\n",
       "    }\n",
       "</style>\n",
       "<table border=\"1\" class=\"dataframe\">\n",
       "  <thead>\n",
       "    <tr style=\"text-align: right;\">\n",
       "      <th>Gender</th>\n",
       "      <th>Female</th>\n",
       "      <th>Male</th>\n",
       "    </tr>\n",
       "    <tr>\n",
       "      <th>Payment_method</th>\n",
       "      <th></th>\n",
       "      <th></th>\n",
       "    </tr>\n",
       "  </thead>\n",
       "  <tbody>\n",
       "    <tr>\n",
       "      <th>Card</th>\n",
       "      <td>429</td>\n",
       "      <td>310</td>\n",
       "    </tr>\n",
       "    <tr>\n",
       "      <th>Other</th>\n",
       "      <td>313</td>\n",
       "      <td>276</td>\n",
       "    </tr>\n",
       "    <tr>\n",
       "      <th>PayPal</th>\n",
       "      <td>614</td>\n",
       "      <td>542</td>\n",
       "    </tr>\n",
       "  </tbody>\n",
       "</table>\n",
       "</div>"
      ],
      "text/plain": [
       "Gender          Female  Male\n",
       "Payment_method              \n",
       "Card               429   310\n",
       "Other              313   276\n",
       "PayPal             614   542"
      ]
     },
     "execution_count": 44,
     "metadata": {},
     "output_type": "execute_result"
    }
   ],
   "source": [
    "pd.crosstab(df.Payment_method,df.Gender)"
   ]
  },
  {
   "cell_type": "code",
   "execution_count": 47,
   "id": "abbca9a9-f2a7-41bb-92af-08321eaffda1",
   "metadata": {},
   "outputs": [
    {
     "data": {
      "text/html": [
       "<div>\n",
       "<style scoped>\n",
       "    .dataframe tbody tr th:only-of-type {\n",
       "        vertical-align: middle;\n",
       "    }\n",
       "\n",
       "    .dataframe tbody tr th {\n",
       "        vertical-align: top;\n",
       "    }\n",
       "\n",
       "    .dataframe thead th {\n",
       "        text-align: right;\n",
       "    }\n",
       "</style>\n",
       "<table border=\"1\" class=\"dataframe\">\n",
       "  <thead>\n",
       "    <tr style=\"text-align: right;\">\n",
       "      <th>Payment_method</th>\n",
       "      <th>Card</th>\n",
       "      <th>Other</th>\n",
       "      <th>PayPal</th>\n",
       "      <th>Total</th>\n",
       "    </tr>\n",
       "    <tr>\n",
       "      <th>Marital_status</th>\n",
       "      <th></th>\n",
       "      <th></th>\n",
       "      <th></th>\n",
       "      <th></th>\n",
       "    </tr>\n",
       "  </thead>\n",
       "  <tbody>\n",
       "    <tr>\n",
       "      <th>Married</th>\n",
       "      <td>441</td>\n",
       "      <td>362</td>\n",
       "      <td>670</td>\n",
       "      <td>1473</td>\n",
       "    </tr>\n",
       "    <tr>\n",
       "      <th>Single</th>\n",
       "      <td>308</td>\n",
       "      <td>233</td>\n",
       "      <td>498</td>\n",
       "      <td>1039</td>\n",
       "    </tr>\n",
       "    <tr>\n",
       "      <th>Total</th>\n",
       "      <td>749</td>\n",
       "      <td>595</td>\n",
       "      <td>1168</td>\n",
       "      <td>2512</td>\n",
       "    </tr>\n",
       "  </tbody>\n",
       "</table>\n",
       "</div>"
      ],
      "text/plain": [
       "Payment_method  Card  Other  PayPal  Total\n",
       "Marital_status                            \n",
       "Married          441    362     670   1473\n",
       "Single           308    233     498   1039\n",
       "Total            749    595    1168   2512"
      ]
     },
     "execution_count": 47,
     "metadata": {},
     "output_type": "execute_result"
    }
   ],
   "source": [
    "pd.crosstab(df.Marital_status,df.Payment_method,margins=True,margins_name=\"Total\")"
   ]
  },
  {
   "cell_type": "code",
   "execution_count": 48,
   "id": "d23ad413-299e-4bda-a825-e6fde2cb1b0e",
   "metadata": {},
   "outputs": [
    {
     "data": {
      "text/html": [
       "<div>\n",
       "<style scoped>\n",
       "    .dataframe tbody tr th:only-of-type {\n",
       "        vertical-align: middle;\n",
       "    }\n",
       "\n",
       "    .dataframe tbody tr th {\n",
       "        vertical-align: top;\n",
       "    }\n",
       "\n",
       "    .dataframe thead th {\n",
       "        text-align: right;\n",
       "    }\n",
       "</style>\n",
       "<table border=\"1\" class=\"dataframe\">\n",
       "  <thead>\n",
       "    <tr style=\"text-align: right;\">\n",
       "      <th>Payment_method</th>\n",
       "      <th>Card</th>\n",
       "      <th>Other</th>\n",
       "      <th>PayPal</th>\n",
       "      <th>Total</th>\n",
       "    </tr>\n",
       "    <tr>\n",
       "      <th>Marital_status</th>\n",
       "      <th></th>\n",
       "      <th></th>\n",
       "      <th></th>\n",
       "      <th></th>\n",
       "    </tr>\n",
       "  </thead>\n",
       "  <tbody>\n",
       "    <tr>\n",
       "      <th>Married</th>\n",
       "      <td>0.175557</td>\n",
       "      <td>0.144108</td>\n",
       "      <td>0.266720</td>\n",
       "      <td>0.586385</td>\n",
       "    </tr>\n",
       "    <tr>\n",
       "      <th>Single</th>\n",
       "      <td>0.122611</td>\n",
       "      <td>0.092755</td>\n",
       "      <td>0.198248</td>\n",
       "      <td>0.413615</td>\n",
       "    </tr>\n",
       "    <tr>\n",
       "      <th>Total</th>\n",
       "      <td>0.298169</td>\n",
       "      <td>0.236863</td>\n",
       "      <td>0.464968</td>\n",
       "      <td>1.000000</td>\n",
       "    </tr>\n",
       "  </tbody>\n",
       "</table>\n",
       "</div>"
      ],
      "text/plain": [
       "Payment_method      Card     Other    PayPal     Total\n",
       "Marital_status                                        \n",
       "Married         0.175557  0.144108  0.266720  0.586385\n",
       "Single          0.122611  0.092755  0.198248  0.413615\n",
       "Total           0.298169  0.236863  0.464968  1.000000"
      ]
     },
     "execution_count": 48,
     "metadata": {},
     "output_type": "execute_result"
    }
   ],
   "source": [
    "pd.crosstab(df.Marital_status,df.Payment_method,normalize=True,margins=True,margins_name=\"Total\")"
   ]
  },
  {
   "cell_type": "code",
   "execution_count": 49,
   "id": "3ebbb4d6-2bf0-40ab-838e-00a9ba0685f7",
   "metadata": {},
   "outputs": [
    {
     "data": {
      "text/html": [
       "<div>\n",
       "<style scoped>\n",
       "    .dataframe tbody tr th:only-of-type {\n",
       "        vertical-align: middle;\n",
       "    }\n",
       "\n",
       "    .dataframe tbody tr th {\n",
       "        vertical-align: top;\n",
       "    }\n",
       "\n",
       "    .dataframe thead tr th {\n",
       "        text-align: left;\n",
       "    }\n",
       "\n",
       "    .dataframe thead tr:last-of-type th {\n",
       "        text-align: right;\n",
       "    }\n",
       "</style>\n",
       "<table border=\"1\" class=\"dataframe\">\n",
       "  <thead>\n",
       "    <tr>\n",
       "      <th>Payment_method</th>\n",
       "      <th colspan=\"4\" halign=\"left\">Card</th>\n",
       "      <th colspan=\"4\" halign=\"left\">Other</th>\n",
       "      <th colspan=\"4\" halign=\"left\">PayPal</th>\n",
       "    </tr>\n",
       "    <tr>\n",
       "      <th>Employees_status</th>\n",
       "      <th>Employees</th>\n",
       "      <th>Unemployment</th>\n",
       "      <th>self-employed</th>\n",
       "      <th>workers</th>\n",
       "      <th>Employees</th>\n",
       "      <th>Unemployment</th>\n",
       "      <th>self-employed</th>\n",
       "      <th>workers</th>\n",
       "      <th>Employees</th>\n",
       "      <th>Unemployment</th>\n",
       "      <th>self-employed</th>\n",
       "      <th>workers</th>\n",
       "    </tr>\n",
       "    <tr>\n",
       "      <th>Marital_status</th>\n",
       "      <th></th>\n",
       "      <th></th>\n",
       "      <th></th>\n",
       "      <th></th>\n",
       "      <th></th>\n",
       "      <th></th>\n",
       "      <th></th>\n",
       "      <th></th>\n",
       "      <th></th>\n",
       "      <th></th>\n",
       "      <th></th>\n",
       "      <th></th>\n",
       "    </tr>\n",
       "  </thead>\n",
       "  <tbody>\n",
       "    <tr>\n",
       "      <th>Married</th>\n",
       "      <td>179</td>\n",
       "      <td>38</td>\n",
       "      <td>81</td>\n",
       "      <td>136</td>\n",
       "      <td>127</td>\n",
       "      <td>41</td>\n",
       "      <td>79</td>\n",
       "      <td>114</td>\n",
       "      <td>260</td>\n",
       "      <td>67</td>\n",
       "      <td>120</td>\n",
       "      <td>217</td>\n",
       "    </tr>\n",
       "    <tr>\n",
       "      <th>Single</th>\n",
       "      <td>115</td>\n",
       "      <td>37</td>\n",
       "      <td>57</td>\n",
       "      <td>96</td>\n",
       "      <td>95</td>\n",
       "      <td>17</td>\n",
       "      <td>44</td>\n",
       "      <td>76</td>\n",
       "      <td>170</td>\n",
       "      <td>55</td>\n",
       "      <td>106</td>\n",
       "      <td>159</td>\n",
       "    </tr>\n",
       "  </tbody>\n",
       "</table>\n",
       "</div>"
      ],
      "text/plain": [
       "Payment_method        Card                                        Other  \\\n",
       "Employees_status Employees Unemployment self-employed workers Employees   \n",
       "Marital_status                                                            \n",
       "Married                179           38            81     136       127   \n",
       "Single                 115           37            57      96        95   \n",
       "\n",
       "Payment_method                                         PayPal               \\\n",
       "Employees_status Unemployment self-employed workers Employees Unemployment   \n",
       "Marital_status                                                               \n",
       "Married                    41            79     114       260           67   \n",
       "Single                     17            44      76       170           55   \n",
       "\n",
       "Payment_method                          \n",
       "Employees_status self-employed workers  \n",
       "Marital_status                          \n",
       "Married                    120     217  \n",
       "Single                     106     159  "
      ]
     },
     "execution_count": 49,
     "metadata": {},
     "output_type": "execute_result"
    }
   ],
   "source": [
    "pd.crosstab(df.Marital_status,[df.Payment_method,df.Employees_status])"
   ]
  },
  {
   "cell_type": "code",
   "execution_count": null,
   "id": "b93a0cf0-422c-4dc4-9693-00107c8c6d63",
   "metadata": {},
   "outputs": [],
   "source": []
  }
 ],
 "metadata": {
  "kernelspec": {
   "display_name": "Python [conda env:base] *",
   "language": "python",
   "name": "conda-base-py"
  },
  "language_info": {
   "codemirror_mode": {
    "name": "ipython",
    "version": 3
   },
   "file_extension": ".py",
   "mimetype": "text/x-python",
   "name": "python",
   "nbconvert_exporter": "python",
   "pygments_lexer": "ipython3",
   "version": "3.12.7"
  }
 },
 "nbformat": 4,
 "nbformat_minor": 5
}
