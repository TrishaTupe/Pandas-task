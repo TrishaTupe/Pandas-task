{
 "cells": [
  {
   "cell_type": "code",
   "execution_count": 1,
   "id": "7e8fac11-093a-4a5a-80c8-ce4b7cb37113",
   "metadata": {},
   "outputs": [],
   "source": [
    "import numpy as np"
   ]
  },
  {
   "cell_type": "code",
   "execution_count": 2,
   "id": "80a0641e-11cd-4f40-94f6-0afc0bc05d13",
   "metadata": {},
   "outputs": [
    {
     "data": {
      "text/plain": [
       "array([1, 2, 3, 4, 5, 6, 7, 8, 9])"
      ]
     },
     "execution_count": 2,
     "metadata": {},
     "output_type": "execute_result"
    }
   ],
   "source": [
    "# Create 1D array of numers from 0 to 9\n",
    "ls=[0,1,2,3,4,5,6,7,8,9]\n",
    "arr=np.array(ls)\n",
    "arr"
   ]
  },
  {
   "cell_type": "code",
   "execution_count": 13,
   "id": "adfce1c2-3946-45d2-b818-a4a143b8918c",
   "metadata": {},
   "outputs": [
    {
     "data": {
      "text/plain": [
       "array([[1, 1, 1],\n",
       "       [1, 1, 1],\n",
       "       [1, 1, 1]])"
      ]
     },
     "execution_count": 13,
     "metadata": {},
     "output_type": "execute_result"
    }
   ],
   "source": [
    "# create 2D array of shape (3,3) with all elements 1.\n",
    "A=np.ones((3,3), dtype=int)\n",
    "A"
   ]
  },
  {
   "cell_type": "code",
   "execution_count": 32,
   "id": "1864ef43-2afe-4f88-862c-dcfd8c70e519",
   "metadata": {},
   "outputs": [
    {
     "data": {
      "text/plain": [
       "array([11, 12, 13, 14, 15, 25, 26, 27, 28, 29, 30, 41, 42, 43, 44])"
      ]
     },
     "execution_count": 32,
     "metadata": {},
     "output_type": "execute_result"
    }
   ],
   "source": [
    "# Generate an numpy array of 15 random integers between 10 and 50\n",
    "B=np.array([11,12,13,14,15,25,26,27,28,29,30,41,42,43,44])\n",
    "B"
   ]
  },
  {
   "cell_type": "code",
   "execution_count": 12,
   "id": "c9a5c632-4921-4a93-8128-c0ecad65c259",
   "metadata": {},
   "outputs": [
    {
     "data": {
      "text/plain": [
       "array([0.  , 0.25, 0.5 , 0.75, 1.  ])"
      ]
     },
     "execution_count": 12,
     "metadata": {},
     "output_type": "execute_result"
    }
   ],
   "source": [
    "# create an array of 5 evenly spaced number between 0 and 1(indusive)\n",
    "np.linspace(0,1,5)"
   ]
  },
  {
   "cell_type": "code",
   "execution_count": 14,
   "id": "6ed29d5e-33f6-47dd-8a20-2c529b5d0119",
   "metadata": {},
   "outputs": [
    {
     "name": "stdout",
     "output_type": "stream",
     "text": [
      "[[1 0 0 0]\n",
      " [0 1 0 0]\n",
      " [0 0 1 0]\n",
      " [0 0 0 1]]\n"
     ]
    }
   ],
   "source": [
    "#Create a 4*4 identity matrix using numpy.\n",
    "A= np.zeros((4,4), dtype=int)\n",
    "for i in range(4):\n",
    "    A[i][i]=1\n",
    "print(A)"
   ]
  },
  {
   "cell_type": "code",
   "execution_count": 17,
   "id": "10e17949-1a44-4273-afbf-db0488d6f4e9",
   "metadata": {},
   "outputs": [
    {
     "name": "stdout",
     "output_type": "stream",
     "text": [
      "[10. 20. 30. 40.]\n",
      "[10 20 30 40]\n"
     ]
    }
   ],
   "source": [
    "# create an array from the list [10,20,30,40] and changed the data type to float\n",
    "lst=[10,20,30,40]\n",
    "arr1=np.array(lst)\n",
    "array=arr1.astype(float)\n",
    "print(array)\n",
    "print(arr1)"
   ]
  },
  {
   "cell_type": "code",
   "execution_count": 24,
   "id": "7eb1eba2-8c59-41d9-a1bd-644fa3162d9d",
   "metadata": {},
   "outputs": [
    {
     "name": "stdout",
     "output_type": "stream",
     "text": [
      "[[1 2 3]\n",
      " [4 5 6]\n",
      " [7 8 9]]\n",
      "second column: [2 5 8]\n"
     ]
    }
   ],
   "source": [
    "# create a 3*3 array with 10 values from 1 to 9, then extract the second column\n",
    "arr2=np.arange(1,10).reshape(3,3)\n",
    "col=arr2[:,1]\n",
    "print(arr2)\n",
    "print(\"second column:\",col)"
   ]
  },
  {
   "cell_type": "code",
   "execution_count": 27,
   "id": "67c15e5e-698d-4bb9-84e2-7a5e5c0313f7",
   "metadata": {},
   "outputs": [
    {
     "name": "stdout",
     "output_type": "stream",
     "text": [
      "[ 1  2  3  4  5  6  7  8  9 10]\n",
      "[[ 1  2  3  4  5]\n",
      " [ 6  7  8  9 10]]\n"
     ]
    }
   ],
   "source": [
    "# Create 1D array with 10 elements and reshape it into a 2*5 matrix\n",
    "arr4=np.array([1,2,3,4,5,6,7,8,9,10])\n",
    "re_arr=arr4.reshape(2,5)\n",
    "print(arr4)\n",
    "print(re_arr)"
   ]
  },
  {
   "cell_type": "code",
   "execution_count": 29,
   "id": "0ad39578-b37f-4c6f-8766-3f46b138b705",
   "metadata": {},
   "outputs": [
    {
     "name": "stdout",
     "output_type": "stream",
     "text": [
      "Array 1: [[1 2]\n",
      " [3 4]]\n",
      "Array 2: [[2 3]\n",
      " [1 4]]\n",
      "Multiplication: [[ 2  6]\n",
      " [ 3 16]]\n"
     ]
    }
   ],
   "source": [
    "# create two 2*2 matrices perform matrix multiplication\n",
    "X=np.array([[1,2],[3,4]])\n",
    "Y=np.array([[2,3],[1,4]])\n",
    "mul=X*Y\n",
    "print(\"Array 1:\",X)\n",
    "print(\"Array 2:\",Y)\n",
    "print(\"Multiplication:\",mul)"
   ]
  },
  {
   "cell_type": "code",
   "execution_count": 31,
   "id": "bdae8860-6d6b-4168-9105-b7edc34b4d4c",
   "metadata": {},
   "outputs": [
    {
     "name": "stdout",
     "output_type": "stream",
     "text": [
      "given array: [ 5 12  7 18  3]\n",
      "[  5 100   7 100   3]\n"
     ]
    }
   ],
   "source": [
    "# given the array arr=np.array([5,12,7,18,3]),replace all values greater than 10 with 100.\n",
    "arr5=np.array([5,12,7,18,3])\n",
    "print(\"given array:\",arr5)\n",
    "arr5[arr5>10]=100\n",
    "print(arr5)"
   ]
  },
  {
   "cell_type": "code",
   "execution_count": null,
   "id": "6a50bf09-f64b-46dd-adb2-714428bdf659",
   "metadata": {},
   "outputs": [],
   "source": []
  }
 ],
 "metadata": {
  "kernelspec": {
   "display_name": "Python [conda env:base] *",
   "language": "python",
   "name": "conda-base-py"
  },
  "language_info": {
   "codemirror_mode": {
    "name": "ipython",
    "version": 3
   },
   "file_extension": ".py",
   "mimetype": "text/x-python",
   "name": "python",
   "nbconvert_exporter": "python",
   "pygments_lexer": "ipython3",
   "version": "3.12.7"
  }
 },
 "nbformat": 4,
 "nbformat_minor": 5
}
